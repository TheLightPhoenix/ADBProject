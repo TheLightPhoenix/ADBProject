{
 "cells": [
  {
   "cell_type": "markdown",
   "metadata": {
    "nteract": {
     "transient": {
      "deleting": false
     }
    }
   },
   "source": [
    "# Advanced Databases - project\n",
    "## Cyber-Physical Systems\n",
    "#### Authors: Rafał Bieszczad, Bartłomiej Gondek, Monika Król, Maciej Stępień"
   ]
  },
  {
   "cell_type": "markdown",
   "metadata": {
    "nteract": {
     "transient": {
      "deleting": false
     }
    }
   },
   "source": [
    "**Table of contents**\n",
    "1. Part 1 - Overview\n",
    "2. Part 2 - Dataset into DataFrame\n",
    "3. Part 3 - Classes\n",
    "4. Part 4 - Insert dataset inside classes\n",
    "5. Part 5 - Check if works"
   ]
  },
  {
   "cell_type": "markdown",
   "metadata": {
    "nteract": {
     "transient": {
      "deleting": false
     }
    }
   },
   "source": [
    "## Part 1 - Overview\n",
    "**Code** is avalible on [GitHub](https://github.com/TheLightPhoenix/ADBProject).\\\n",
    "Database is based on \"*Electronic card transactions: May 2020*\" **data** taken from [this website](https://www.stats.govt.nz/information-releases/electronic-card-transactions-may-2020)."
   ]
  },
  {
   "cell_type": "markdown",
   "metadata": {
    "nteract": {
     "transient": {
      "deleting": false
     }
    }
   },
   "source": [
    "## Part 2 - Dataset into DataFrame"
   ]
  },
  {
   "cell_type": "code",
   "execution_count": 38,
   "metadata": {
    "nteract": {
     "transient": {
      "deleting": false
     }
    }
   },
   "outputs": [],
   "source": [
    "from sqlalchemy import create_engine\n",
    "\n",
    "database_type = \"postgresql\"\n",
    "user = \"postgres\"\n",
    "password = \"#postgres\"\n",
    "database_url = \"localhost\"\n",
    "port = 5432\n",
    "database_name = \"postgres\"\n",
    "db_string = \"{:s}://{:s}:{:s}@{:s}:{:d}/{:s}\".format(database_type, user, password, database_url, port, database_name)\n",
    "\n",
    "engine = create_engine(db_string)"
   ]
  },
  {
   "cell_type": "code",
   "execution_count": 39,
   "metadata": {
    "nteract": {
     "transient": {
      "deleting": false
     }
    }
   },
   "outputs": [],
   "source": [
    "import pandas as pd\n",
    "\n",
    "df = pd.read_csv(\"../working_data/electronic-card-transactions-may-2020-csv-tables.csv\")"
   ]
  },
  {
   "cell_type": "code",
   "execution_count": 40,
   "metadata": {
    "nteract": {
     "transient": {
      "deleting": false
     }
    }
   },
   "outputs": [
    {
     "data": {
      "text/html": [
       "<div>\n",
       "<style scoped>\n",
       "    .dataframe tbody tr th:only-of-type {\n",
       "        vertical-align: middle;\n",
       "    }\n",
       "\n",
       "    .dataframe tbody tr th {\n",
       "        vertical-align: top;\n",
       "    }\n",
       "\n",
       "    .dataframe thead th {\n",
       "        text-align: right;\n",
       "    }\n",
       "</style>\n",
       "<table border=\"1\" class=\"dataframe\">\n",
       "  <thead>\n",
       "    <tr style=\"text-align: right;\">\n",
       "      <th></th>\n",
       "      <th>Series_reference</th>\n",
       "      <th>Period</th>\n",
       "      <th>Data_value</th>\n",
       "      <th>Suppressed</th>\n",
       "      <th>STATUS</th>\n",
       "      <th>UNITS</th>\n",
       "      <th>Magnitude</th>\n",
       "      <th>Subject</th>\n",
       "      <th>Group</th>\n",
       "      <th>Series_title_1</th>\n",
       "      <th>Series_title_2</th>\n",
       "      <th>Series_title_3</th>\n",
       "      <th>Series_title_4</th>\n",
       "      <th>Series_title_5</th>\n",
       "    </tr>\n",
       "  </thead>\n",
       "  <tbody>\n",
       "    <tr>\n",
       "      <th>0</th>\n",
       "      <td>ECTA.S19A1</td>\n",
       "      <td>2001.03</td>\n",
       "      <td>2462.5</td>\n",
       "      <td>NaN</td>\n",
       "      <td>F</td>\n",
       "      <td>Dollars</td>\n",
       "      <td>6</td>\n",
       "      <td>Electronic Card Transactions (ANZSIC06) - ECT</td>\n",
       "      <td>Total values - Electronic card transactions A/...</td>\n",
       "      <td>Actual</td>\n",
       "      <td>RTS total industries</td>\n",
       "      <td>NaN</td>\n",
       "      <td>NaN</td>\n",
       "      <td>NaN</td>\n",
       "    </tr>\n",
       "    <tr>\n",
       "      <th>1</th>\n",
       "      <td>ECTA.S19A1</td>\n",
       "      <td>2002.03</td>\n",
       "      <td>17177.2</td>\n",
       "      <td>NaN</td>\n",
       "      <td>F</td>\n",
       "      <td>Dollars</td>\n",
       "      <td>6</td>\n",
       "      <td>Electronic Card Transactions (ANZSIC06) - ECT</td>\n",
       "      <td>Total values - Electronic card transactions A/...</td>\n",
       "      <td>Actual</td>\n",
       "      <td>RTS total industries</td>\n",
       "      <td>NaN</td>\n",
       "      <td>NaN</td>\n",
       "      <td>NaN</td>\n",
       "    </tr>\n",
       "    <tr>\n",
       "      <th>2</th>\n",
       "      <td>ECTA.S19A1</td>\n",
       "      <td>2003.03</td>\n",
       "      <td>22530.5</td>\n",
       "      <td>NaN</td>\n",
       "      <td>F</td>\n",
       "      <td>Dollars</td>\n",
       "      <td>6</td>\n",
       "      <td>Electronic Card Transactions (ANZSIC06) - ECT</td>\n",
       "      <td>Total values - Electronic card transactions A/...</td>\n",
       "      <td>Actual</td>\n",
       "      <td>RTS total industries</td>\n",
       "      <td>NaN</td>\n",
       "      <td>NaN</td>\n",
       "      <td>NaN</td>\n",
       "    </tr>\n",
       "    <tr>\n",
       "      <th>3</th>\n",
       "      <td>ECTA.S19A1</td>\n",
       "      <td>2004.03</td>\n",
       "      <td>28005.1</td>\n",
       "      <td>NaN</td>\n",
       "      <td>F</td>\n",
       "      <td>Dollars</td>\n",
       "      <td>6</td>\n",
       "      <td>Electronic Card Transactions (ANZSIC06) - ECT</td>\n",
       "      <td>Total values - Electronic card transactions A/...</td>\n",
       "      <td>Actual</td>\n",
       "      <td>RTS total industries</td>\n",
       "      <td>NaN</td>\n",
       "      <td>NaN</td>\n",
       "      <td>NaN</td>\n",
       "    </tr>\n",
       "    <tr>\n",
       "      <th>4</th>\n",
       "      <td>ECTA.S19A1</td>\n",
       "      <td>2005.03</td>\n",
       "      <td>30629.6</td>\n",
       "      <td>NaN</td>\n",
       "      <td>F</td>\n",
       "      <td>Dollars</td>\n",
       "      <td>6</td>\n",
       "      <td>Electronic Card Transactions (ANZSIC06) - ECT</td>\n",
       "      <td>Total values - Electronic card transactions A/...</td>\n",
       "      <td>Actual</td>\n",
       "      <td>RTS total industries</td>\n",
       "      <td>NaN</td>\n",
       "      <td>NaN</td>\n",
       "      <td>NaN</td>\n",
       "    </tr>\n",
       "  </tbody>\n",
       "</table>\n",
       "</div>"
      ],
      "text/plain": [
       "  Series_reference   Period  Data_value Suppressed STATUS    UNITS  Magnitude  \\\n",
       "0       ECTA.S19A1  2001.03      2462.5        NaN      F  Dollars          6   \n",
       "1       ECTA.S19A1  2002.03     17177.2        NaN      F  Dollars          6   \n",
       "2       ECTA.S19A1  2003.03     22530.5        NaN      F  Dollars          6   \n",
       "3       ECTA.S19A1  2004.03     28005.1        NaN      F  Dollars          6   \n",
       "4       ECTA.S19A1  2005.03     30629.6        NaN      F  Dollars          6   \n",
       "\n",
       "                                         Subject  \\\n",
       "0  Electronic Card Transactions (ANZSIC06) - ECT   \n",
       "1  Electronic Card Transactions (ANZSIC06) - ECT   \n",
       "2  Electronic Card Transactions (ANZSIC06) - ECT   \n",
       "3  Electronic Card Transactions (ANZSIC06) - ECT   \n",
       "4  Electronic Card Transactions (ANZSIC06) - ECT   \n",
       "\n",
       "                                               Group Series_title_1  \\\n",
       "0  Total values - Electronic card transactions A/...         Actual   \n",
       "1  Total values - Electronic card transactions A/...         Actual   \n",
       "2  Total values - Electronic card transactions A/...         Actual   \n",
       "3  Total values - Electronic card transactions A/...         Actual   \n",
       "4  Total values - Electronic card transactions A/...         Actual   \n",
       "\n",
       "         Series_title_2 Series_title_3  Series_title_4  Series_title_5  \n",
       "0  RTS total industries            NaN             NaN             NaN  \n",
       "1  RTS total industries            NaN             NaN             NaN  \n",
       "2  RTS total industries            NaN             NaN             NaN  \n",
       "3  RTS total industries            NaN             NaN             NaN  \n",
       "4  RTS total industries            NaN             NaN             NaN  "
      ]
     },
     "execution_count": 40,
     "metadata": {},
     "output_type": "execute_result"
    }
   ],
   "source": [
    "df.head()"
   ]
  },
  {
   "cell_type": "markdown",
   "metadata": {
    "nteract": {
     "transient": {
      "deleting": false
     }
    }
   },
   "source": [
    "## Part 3 - Classes"
   ]
  },
  {
   "cell_type": "code",
   "execution_count": 41,
   "metadata": {
    "nteract": {
     "transient": {
      "deleting": false
     }
    }
   },
   "outputs": [],
   "source": [
    "ln = lambda a : len(a)"
   ]
  },
  {
   "cell_type": "code",
   "execution_count": 42,
   "metadata": {
    "nteract": {
     "transient": {
      "deleting": false
     }
    }
   },
   "outputs": [],
   "source": [
    "head = \"|{:16s}|{:8s}|{:12s}|\".format('col name',\n",
    "                                   'max len',\n",
    "                                   'unique vals')"
   ]
  },
  {
   "cell_type": "code",
   "execution_count": 43,
   "metadata": {
    "nteract": {
     "transient": {
      "deleting": false
     }
    }
   },
   "outputs": [
    {
     "name": "stdout",
     "output_type": "stream",
     "text": [
      "|col name        |max len |unique vals |\n",
      "----------------------------------------\n",
      "|Series_reference|      12|         137|\n",
      "|Period          |       -|         245|\n",
      "|Data_value      |       -|       11679|\n",
      "|Suppressed      |       -|           2|\n",
      "|STATUS          |       1|           4|\n",
      "|UNITS           |       7|           3|\n",
      "|Magnitude       |       -|           2|\n",
      "|Subject         |      45|           1|\n",
      "|Group           |      69|           5|\n",
      "|Series_title_1  |      19|           3|\n",
      "|Series_title_2  |      59|          20|\n",
      "|Series_title_3  |       -|           6|\n",
      "|Series_title_4  |       -|           1|\n",
      "|Series_title_5  |       -|           1|\n"
     ]
    }
   ],
   "source": [
    "print(head)\n",
    "print('-'*len(head))\n",
    "\n",
    "for i in df.columns:\n",
    "    try:\n",
    "        print(\"|{:16s}|{:8d}|{:12d}|\".format(i,\n",
    "                                          max(df[i].apply(ln)),\n",
    "                                          len(pd.unique(df[i])) ) )\n",
    "    except TypeError:\n",
    "        print(\"|{:16s}\".format(i)\n",
    "              +\"|\"\n",
    "              +\" \"*7\n",
    "              +\"-\"\n",
    "              +\"|{:12d}|\".format(len(pd.unique(df[i]))) )"
   ]
  },
  {
   "cell_type": "code",
   "execution_count": 44,
   "metadata": {
    "nteract": {
     "transient": {
      "deleting": false
     }
    }
   },
   "outputs": [],
   "source": [
    "from sqlalchemy import (Column,\n",
    "                        Date,\n",
    "                        Integer,\n",
    "                        Float,\n",
    "                        String)\n",
    "from sqlalchemy import ForeignKey\n",
    "from sqlalchemy.ext.declarative import declarative_base\n",
    "\n",
    "Base = declarative_base()"
   ]
  },
  {
   "cell_type": "code",
   "execution_count": 45,
   "metadata": {
    "nteract": {
     "transient": {
      "deleting": false
     }
    }
   },
   "outputs": [],
   "source": [
    "class Transactions(Base):\n",
    "    __tablename__ = \"transactions\"\n",
    "    id                  = Column(Integer, primary_key=True)\n",
    "    id_Series_reference = Column(Integer, ForeignKey(\"series_reference.id\"))\n",
    "    Period              = Column(Date)\n",
    "    Data_value          = Column(Float)\n",
    "    Suppressed          = Column(String(1))\n",
    "    STATUS              = Column(String(1))\n",
    "    id_UNITS            = Column(Integer, ForeignKey(\"units.id\"))\n",
    "    Magnitude           = Column(Integer)\n",
    "    id_Subject          = Column(Integer, ForeignKey(\"subject.id\"))\n",
    "    id_Group            = Column(Integer, ForeignKey(\"subject.id\"))\n",
    "    id_Series_title_1   = Column(Integer, ForeignKey(\"series_title_1.id\"))\n",
    "    id_Series_title_2   = Column(Integer, ForeignKey(\"series_title_2.id\"))\n",
    "    id_Series_title_3   = Column(Integer, ForeignKey(\"series_title_3.id\"))\n",
    "    id_Series_title_4   = Column(Integer, ForeignKey(\"series_title_4.id\"))\n",
    "    id_Series_title_5   = Column(Integer, ForeignKey(\"series_title_5.id\"))\n",
    "\n",
    "    def __repr__(self):\n",
    "        return \"<match_results(id={}\\\n",
    "                               id_Series_reference={}\\\n",
    "                               Period={}\\\n",
    "                               Data_value={}\\\n",
    "                               Suppressed={}\\\n",
    "                               STATUS={}\\\n",
    "                               id_UNITS={}\\\n",
    "                               Magnitude={}\\\n",
    "                               id_Subject={}\\\n",
    "                               id_Group={}\\\n",
    "                               id_Series_title_1={}\\\n",
    "                               id_Series_title_2={}\\\n",
    "                               id_Series_title_3={}\\\n",
    "                               id_Series_title_4={}\\\n",
    "                               id_Series_title_5={}\".format(self.id,\n",
    "                                                            self.id_Series_reference,\n",
    "                                                            self.Period,\n",
    "                                                            self.Data_value,\n",
    "                                                            self.Suppressed,\n",
    "                                                            self.STATUS,\n",
    "                                                            self.id_UNITS,\n",
    "                                                            self.Magnitude,\n",
    "                                                            self.id_Subject,\n",
    "                                                            self.id_Group,\n",
    "                                                            self.id_Series_title_1,\n",
    "                                                            self.id_Series_title_2,\n",
    "                                                            self.id_Series_title_3,\n",
    "                                                            self.id_Series_title_4,\n",
    "                                                            self.id_Series_title_5)"
   ]
  },
  {
   "cell_type": "code",
   "execution_count": 46,
   "metadata": {
    "nteract": {
     "transient": {
      "deleting": false
     }
    }
   },
   "outputs": [],
   "source": [
    "class Series_reference(Base):\n",
    "    __tablename__ = \"series_references\"\n",
    "\n",
    "    id = Column(Integer, primary_key=True)\n",
    "    series_reference = Column(String(12))\n",
    "\n",
    "    def __repr__(self):\n",
    "        return \"<match_results(id='{}', \\\n",
    "                               series_reference={})>\".format(self.id,\n",
    "                                                             self.Series_reference)"
   ]
  },
  {
   "cell_type": "code",
   "execution_count": 47,
   "metadata": {
    "nteract": {
     "transient": {
      "deleting": false
     }
    }
   },
   "outputs": [],
   "source": [
    "class Unit(Base):\n",
    "    __tablename__ = \"units\"\n",
    "\n",
    "    id = Column(Integer, primary_key=True)\n",
    "    unit = Column(String(10))\n",
    "\n",
    "    def __repr__(self):\n",
    "        return \"<match_results(id='{}', \\\n",
    "                               units={})>\".format(self.id,\n",
    "                                                  self.units)"
   ]
  },
  {
   "cell_type": "code",
   "execution_count": 48,
   "metadata": {
    "nteract": {
     "transient": {
      "deleting": false
     }
    }
   },
   "outputs": [],
   "source": [
    "class Subject(Base):\n",
    "    __tablename__ = \"subjects\"\n",
    "\n",
    "    id = Column(Integer, primary_key=True)\n",
    "    subject = Column(String(50))\n",
    "\n",
    "    def __repr__(self):\n",
    "        return \"<match_results(id='{}', \\\n",
    "                               subject={})>\".format(self.id,\n",
    "                                                    self.subject)"
   ]
  },
  {
   "cell_type": "code",
   "execution_count": 49,
   "metadata": {
    "nteract": {
     "transient": {
      "deleting": false
     }
    }
   },
   "outputs": [],
   "source": [
    "class Group(Base):\n",
    "    __tablename__ = \"groups\"\n",
    "\n",
    "    id = Column(Integer, primary_key=True)\n",
    "    group = Column(String(10))\n",
    "\n",
    "    def __repr__(self):\n",
    "        return \"<match_results(id='{}', \\\n",
    "                               group={})>\".format(self.id,\n",
    "                                                  self.group)"
   ]
  },
  {
   "cell_type": "code",
   "execution_count": 50,
   "metadata": {
    "nteract": {
     "transient": {
      "deleting": false
     }
    }
   },
   "outputs": [],
   "source": [
    "class Series_title_1(Base):\n",
    "    __tablename__ = \"series_titles_1\"\n",
    "\n",
    "    id = Column(Integer, primary_key=True)\n",
    "    series_title_1  = Column(String(75))\n",
    "\n",
    "    def __repr__(self):\n",
    "        return \"<match_results(id='{}', \\\n",
    "                               series_title_1={})>\".format(self.id,\n",
    "                                                           self.series_title_1)\n",
    "\n"
   ]
  },
  {
   "cell_type": "code",
   "execution_count": 51,
   "metadata": {
    "nteract": {
     "transient": {
      "deleting": false
     }
    }
   },
   "outputs": [],
   "source": [
    "class Series_title_2(Base):\n",
    "    __tablename__ = \"series_titles_2\"\n",
    "\n",
    "    id = Column(Integer, primary_key=True)\n",
    "    series_title_2  = Column(String(25))\n",
    "\n",
    "    def __repr__(self):\n",
    "        return \"<match_results(id='{}', \\\n",
    "                               series_title_2={})>\".format(self.id,\n",
    "                                                           self.series_title_2)\n"
   ]
  },
  {
   "cell_type": "code",
   "execution_count": 52,
   "metadata": {
    "nteract": {
     "transient": {
      "deleting": false
     }
    }
   },
   "outputs": [],
   "source": [
    "class Series_title_3(Base):\n",
    "    __tablename__ = \"series_titles_3\"\n",
    "\n",
    "    id = Column(Integer, primary_key=True)\n",
    "    series_title_3  = Column(String(75))\n",
    "\n",
    "\n",
    "    def __repr__(self):\n",
    "        return \"<match_results(id='{}', \\\n",
    "                               series_title_3={})>\".format(self.id,\n",
    "                                                           self.series_title_3)\n"
   ]
  },
  {
   "cell_type": "code",
   "execution_count": 53,
   "metadata": {
    "nteract": {
     "transient": {
      "deleting": false
     }
    }
   },
   "outputs": [],
   "source": [
    "class Series_title_4(Base):\n",
    "    __tablename__ = \"series_titles_4\"\n",
    "\n",
    "    id = Column(Integer, primary_key=True)\n",
    "    series_title_4  = Column(String(50))\n",
    "\n",
    "    def __repr__(self):\n",
    "        return \"<match_results(id='{}', \\\n",
    "                               series_title_4={})>\".format(self.id,\n",
    "                                                           self.series_title_4)\n"
   ]
  },
  {
   "cell_type": "code",
   "execution_count": 54,
   "metadata": {
    "nteract": {
     "transient": {
      "deleting": false
     }
    }
   },
   "outputs": [],
   "source": [
    "class Series_title_5(Base):\n",
    "    __tablename__ = \"series_titles_5\"\n",
    "\n",
    "    id = Column(Integer, primary_key=True)\n",
    "    series_title_5  = Column(String(50))\n",
    "\n",
    "    def __repr__(self):\n",
    "        return \"<match_results(id='{}', \\\n",
    "                               series_title_5={})>\".format(self.id,\n",
    "                                                           self.series_title_5)\n",
    "\n"
   ]
  },
  {
   "cell_type": "markdown",
   "metadata": {
    "nteract": {
     "transient": {
      "deleting": false
     }
    }
   },
   "source": [
    "## Part 4 - Insert dataset inside classes"
   ]
  },
  {
   "cell_type": "code",
   "execution_count": 55,
   "metadata": {
    "jupyter": {
     "outputs_hidden": true,
     "source_hidden": false
    },
    "nteract": {
     "transient": {
      "deleting": false
     }
    }
   },
   "outputs": [],
   "source": [
    "df.to_sql('transactions', engine, if_exists='append')"
   ]
  },
  {
   "cell_type": "markdown",
   "metadata": {
    "nteract": {
     "transient": {
      "deleting": false
     }
    }
   },
   "source": [
    "## Part 5 - Check if works"
   ]
  }
 ],
 "metadata": {
  "kernelspec": {
   "display_name": "Python 3",
   "language": "python",
   "name": "python3"
  },
  "language_info": {
   "codemirror_mode": {
    "name": "ipython",
    "version": 3
   },
   "file_extension": ".py",
   "mimetype": "text/x-python",
   "name": "python",
   "nbconvert_exporter": "python",
   "pygments_lexer": "ipython3",
   "version": "3.7.6"
  }
 },
 "nbformat": 4,
 "nbformat_minor": 4
}
