{
 "cells": [
  {
   "cell_type": "markdown",
   "metadata": {
    "nteract": {
     "transient": {
      "deleting": false
     }
    }
   },
   "source": [
    "# Advanced Databases - project\n",
    "## Cyber-Physical Systems\n",
    "#### Authors: Rafał Bieszczad, Bartłomiej Gondek, Monika Król, Maciej Stępień"
   ]
  },
  {
   "cell_type": "markdown",
   "metadata": {
    "nteract": {
     "transient": {
      "deleting": false
     }
    }
   },
   "source": [
    "**Table of contents**\n",
    "1. Part 1 - Overview\n",
    "2. Part 2 - Dataset into DataFrame\n",
    "3. Part 3 - Classes\n",
    "4. Part 4 - Insert dataset inside classes\n",
    "5. Part 5 - Check if works"
   ]
  },
  {
   "cell_type": "markdown",
   "metadata": {
    "nteract": {
     "transient": {
      "deleting": false
     }
    }
   },
   "source": [
    "## Part 1 - Overview\n",
    "**Code** is avalible on [GitHub](https://github.com/TheLightPhoenix/ADBProject).\\\n",
    "Database is based on \"*Electronic card transactions: May 2020*\" **data** taken from [this website](https://www.stats.govt.nz/information-releases/electronic-card-transactions-may-2020)."
   ]
  },
  {
   "cell_type": "markdown",
   "metadata": {
    "nteract": {
     "transient": {
      "deleting": false
     }
    }
   },
   "source": [
    "## Part 2 - Dataset into DataFrame"
   ]
  },
  {
   "cell_type": "code",
   "execution_count": 272,
   "metadata": {
    "nteract": {
     "transient": {
      "deleting": false
     }
    }
   },
   "outputs": [],
   "source": [
    "from sqlalchemy import create_engine\n",
    "\n",
    "database_type = \"postgresql\"\n",
    "user = \"postgres\"\n",
    "password = \"#_1234\"\n",
    "database_url = \"localhost\"\n",
    "port = 5432\n",
    "database_name = \"postgres\"\n",
    "db_string = \"{:s}://{:s}:{:s}@{:s}:{:d}/{:s}\".format(database_type, user, password, database_url, port, database_name)\n",
    "\n",
    "engine = create_engine(db_string)"
   ]
  },
  {
   "cell_type": "code",
   "execution_count": 273,
   "metadata": {
    "nteract": {
     "transient": {
      "deleting": false
     }
    }
   },
   "outputs": [],
   "source": [
    "import pandas as pd\n",
    "\n",
    "df = pd.read_csv(\"../working_data/electronic-card-transactions-may-2020-csv-tables.csv\")"
   ]
  },
  {
   "cell_type": "code",
   "execution_count": 274,
   "metadata": {
    "nteract": {
     "transient": {
      "deleting": false
     }
    }
   },
   "outputs": [
    {
     "output_type": "execute_result",
     "data": {
      "text/plain": "  Series_reference   Period  Data_value Suppressed STATUS    UNITS  Magnitude  \\\n0       ECTA.S19A1  2001.03      2462.5        NaN      F  Dollars          6   \n1       ECTA.S19A1  2002.03     17177.2        NaN      F  Dollars          6   \n2       ECTA.S19A1  2003.03     22530.5        NaN      F  Dollars          6   \n3       ECTA.S19A1  2004.03     28005.1        NaN      F  Dollars          6   \n4       ECTA.S19A1  2005.03     30629.6        NaN      F  Dollars          6   \n\n                                         Subject  \\\n0  Electronic Card Transactions (ANZSIC06) - ECT   \n1  Electronic Card Transactions (ANZSIC06) - ECT   \n2  Electronic Card Transactions (ANZSIC06) - ECT   \n3  Electronic Card Transactions (ANZSIC06) - ECT   \n4  Electronic Card Transactions (ANZSIC06) - ECT   \n\n                                               Group Series_title_1  \\\n0  Total values - Electronic card transactions A/...         Actual   \n1  Total values - Electronic card transactions A/...         Actual   \n2  Total values - Electronic card transactions A/...         Actual   \n3  Total values - Electronic card transactions A/...         Actual   \n4  Total values - Electronic card transactions A/...         Actual   \n\n         Series_title_2 Series_title_3  Series_title_4  Series_title_5  \n0  RTS total industries            NaN             NaN             NaN  \n1  RTS total industries            NaN             NaN             NaN  \n2  RTS total industries            NaN             NaN             NaN  \n3  RTS total industries            NaN             NaN             NaN  \n4  RTS total industries            NaN             NaN             NaN  ",
      "text/html": "<div>\n<style scoped>\n    .dataframe tbody tr th:only-of-type {\n        vertical-align: middle;\n    }\n\n    .dataframe tbody tr th {\n        vertical-align: top;\n    }\n\n    .dataframe thead th {\n        text-align: right;\n    }\n</style>\n<table border=\"1\" class=\"dataframe\">\n  <thead>\n    <tr style=\"text-align: right;\">\n      <th></th>\n      <th>Series_reference</th>\n      <th>Period</th>\n      <th>Data_value</th>\n      <th>Suppressed</th>\n      <th>STATUS</th>\n      <th>UNITS</th>\n      <th>Magnitude</th>\n      <th>Subject</th>\n      <th>Group</th>\n      <th>Series_title_1</th>\n      <th>Series_title_2</th>\n      <th>Series_title_3</th>\n      <th>Series_title_4</th>\n      <th>Series_title_5</th>\n    </tr>\n  </thead>\n  <tbody>\n    <tr>\n      <th>0</th>\n      <td>ECTA.S19A1</td>\n      <td>2001.03</td>\n      <td>2462.5</td>\n      <td>NaN</td>\n      <td>F</td>\n      <td>Dollars</td>\n      <td>6</td>\n      <td>Electronic Card Transactions (ANZSIC06) - ECT</td>\n      <td>Total values - Electronic card transactions A/...</td>\n      <td>Actual</td>\n      <td>RTS total industries</td>\n      <td>NaN</td>\n      <td>NaN</td>\n      <td>NaN</td>\n    </tr>\n    <tr>\n      <th>1</th>\n      <td>ECTA.S19A1</td>\n      <td>2002.03</td>\n      <td>17177.2</td>\n      <td>NaN</td>\n      <td>F</td>\n      <td>Dollars</td>\n      <td>6</td>\n      <td>Electronic Card Transactions (ANZSIC06) - ECT</td>\n      <td>Total values - Electronic card transactions A/...</td>\n      <td>Actual</td>\n      <td>RTS total industries</td>\n      <td>NaN</td>\n      <td>NaN</td>\n      <td>NaN</td>\n    </tr>\n    <tr>\n      <th>2</th>\n      <td>ECTA.S19A1</td>\n      <td>2003.03</td>\n      <td>22530.5</td>\n      <td>NaN</td>\n      <td>F</td>\n      <td>Dollars</td>\n      <td>6</td>\n      <td>Electronic Card Transactions (ANZSIC06) - ECT</td>\n      <td>Total values - Electronic card transactions A/...</td>\n      <td>Actual</td>\n      <td>RTS total industries</td>\n      <td>NaN</td>\n      <td>NaN</td>\n      <td>NaN</td>\n    </tr>\n    <tr>\n      <th>3</th>\n      <td>ECTA.S19A1</td>\n      <td>2004.03</td>\n      <td>28005.1</td>\n      <td>NaN</td>\n      <td>F</td>\n      <td>Dollars</td>\n      <td>6</td>\n      <td>Electronic Card Transactions (ANZSIC06) - ECT</td>\n      <td>Total values - Electronic card transactions A/...</td>\n      <td>Actual</td>\n      <td>RTS total industries</td>\n      <td>NaN</td>\n      <td>NaN</td>\n      <td>NaN</td>\n    </tr>\n    <tr>\n      <th>4</th>\n      <td>ECTA.S19A1</td>\n      <td>2005.03</td>\n      <td>30629.6</td>\n      <td>NaN</td>\n      <td>F</td>\n      <td>Dollars</td>\n      <td>6</td>\n      <td>Electronic Card Transactions (ANZSIC06) - ECT</td>\n      <td>Total values - Electronic card transactions A/...</td>\n      <td>Actual</td>\n      <td>RTS total industries</td>\n      <td>NaN</td>\n      <td>NaN</td>\n      <td>NaN</td>\n    </tr>\n  </tbody>\n</table>\n</div>"
     },
     "metadata": {},
     "execution_count": 274
    }
   ],
   "source": [
    "df.head()"
   ]
  },
  {
   "cell_type": "markdown",
   "metadata": {
    "nteract": {
     "transient": {
      "deleting": false
     }
    }
   },
   "source": [
    "## Part 3 - Classes"
   ]
  },
  {
   "cell_type": "code",
   "execution_count": 275,
   "metadata": {
    "nteract": {
     "transient": {
      "deleting": false
     }
    }
   },
   "outputs": [],
   "source": [
    "ln = lambda a : len(a)"
   ]
  },
  {
   "cell_type": "code",
   "execution_count": 276,
   "metadata": {
    "nteract": {
     "transient": {
      "deleting": false
     }
    }
   },
   "outputs": [],
   "source": [
    "head = \"|{:16s}|{:8s}|{:12s}|\".format('col name',\n",
    "                                   'max len',\n",
    "                                   'unique vals')"
   ]
  },
  {
   "cell_type": "code",
   "execution_count": 277,
   "metadata": {
    "nteract": {
     "transient": {
      "deleting": false
     }
    },
    "tags": []
   },
   "outputs": [
    {
     "output_type": "stream",
     "name": "stdout",
     "text": "|col name        |max len |unique vals |\n----------------------------------------\n|Series_reference|      12|         137|\n|Period          |       -|         245|\n|Data_value      |       -|       11679|\n|Suppressed      |       -|           2|\n|STATUS          |       1|           4|\n|UNITS           |       7|           3|\n|Magnitude       |       -|           2|\n|Subject         |      45|           1|\n|Group           |      69|           5|\n|Series_title_1  |      19|           3|\n|Series_title_2  |      59|          20|\n|Series_title_3  |       -|           6|\n|Series_title_4  |       -|           1|\n|Series_title_5  |       -|           1|\n"
    }
   ],
   "source": [
    "print(head)\n",
    "print('-'*len(head))\n",
    "\n",
    "for i in df.columns:\n",
    "    try:\n",
    "        print(\"|{:16s}|{:8d}|{:12d}|\".format(i,\n",
    "                                          max(df[i].apply(ln)),\n",
    "                                          len(pd.unique(df[i])) ) )\n",
    "    except TypeError:\n",
    "        print(\"|{:16s}\".format(i)\n",
    "              +\"|\"\n",
    "              +\" \"*7\n",
    "              +\"-\"\n",
    "              +\"|{:12d}|\".format(len(pd.unique(df[i]))) )"
   ]
  },
  {
   "cell_type": "code",
   "execution_count": 278,
   "metadata": {
    "nteract": {
     "transient": {
      "deleting": false
     }
    }
   },
   "outputs": [],
   "source": [
    "from sqlalchemy import (Column,\n",
    "                        Date,\n",
    "                        Integer,\n",
    "                        Float,\n",
    "                        String)\n",
    "from sqlalchemy import ForeignKey\n",
    "from sqlalchemy.ext.declarative import declarative_base\n",
    "\n",
    "Base = declarative_base()"
   ]
  },
  {
   "cell_type": "code",
   "execution_count": 279,
   "metadata": {
    "nteract": {
     "transient": {
      "deleting": false
     }
    }
   },
   "outputs": [],
   "source": [
    "class Transactions(Base):\n",
    "    __tablename__ = \"transactions\"\n",
    "    id                  = Column(Integer, primary_key=True)\n",
    "    id_Series_reference = Column(Integer, ForeignKey(\"series_references.id\"))\n",
    "    Period              = Column(Date)\n",
    "    Data_value          = Column(Float)\n",
    "    Suppressed          = Column(String(1))\n",
    "    STATUS              = Column(String(1))\n",
    "    id_UNITS            = Column(Integer, ForeignKey(\"units.id\"))\n",
    "    Magnitude           = Column(Integer)\n",
    "    id_Subject          = Column(Integer, ForeignKey(\"subjects.id\"))\n",
    "    id_Group            = Column(Integer, ForeignKey(\"groups.id\"))\n",
    "    id_Series_title_1   = Column(Integer, ForeignKey(\"series_titles_1.id\"))\n",
    "    id_Series_title_2   = Column(Integer, ForeignKey(\"series_titles_2.id\"))\n",
    "    id_Series_title_3   = Column(Integer, ForeignKey(\"series_titles_3.id\"))\n",
    "\n",
    "    def __repr__(self):\n",
    "        return \"<match_results(id={}\\\n",
    "                               id_Series_reference={}\\\n",
    "                               Period={}\\\n",
    "                               Data_value={}\\\n",
    "                               Suppressed={}\\\n",
    "                               STATUS={}\\\n",
    "                               id_UNITS={}\\\n",
    "                               Magnitude={}\\\n",
    "                               id_Subject={}\\\n",
    "                               id_Group={}\\\n",
    "                               id_Series_title_1={}\\\n",
    "                               id_Series_title_2={}\\\n",
    "                               id_Series_title_3={}\".format(self.id,\n",
    "                                                            self.id_Series_reference,\n",
    "                                                            self.Period,\n",
    "                                                            self.Data_value,\n",
    "                                                            self.Suppressed,\n",
    "                                                            self.STATUS,\n",
    "                                                            self.id_UNITS,\n",
    "                                                            self.Magnitude,\n",
    "                                                            self.id_Subject,\n",
    "                                                            self.id_Group,\n",
    "                                                            self.id_Series_title_1,\n",
    "                                                            self.id_Series_title_2,\n",
    "                                                            self.id_Series_title_3)"
   ]
  },
  {
   "cell_type": "code",
   "execution_count": 280,
   "metadata": {
    "nteract": {
     "transient": {
      "deleting": false
     }
    }
   },
   "outputs": [],
   "source": [
    "class Series_reference(Base):\n",
    "    __tablename__ = \"series_references\"\n",
    "\n",
    "    id = Column(Integer, primary_key=True)\n",
    "    series_reference = Column(String(12))\n",
    "\n",
    "    def __repr__(self):\n",
    "        return \"<match_results(id='{}', \\\n",
    "                               series_reference={})>\".format(self.id,\n",
    "                                                             self.Series_reference)"
   ]
  },
  {
   "cell_type": "code",
   "execution_count": 281,
   "metadata": {
    "nteract": {
     "transient": {
      "deleting": false
     }
    }
   },
   "outputs": [],
   "source": [
    "class Unit(Base):\n",
    "    __tablename__ = \"units\"\n",
    "\n",
    "    id = Column(Integer, primary_key=True)\n",
    "    unit = Column(String(10))\n",
    "\n",
    "    def __repr__(self):\n",
    "        return \"<match_results(id='{}', \\\n",
    "                               units={})>\".format(self.id,\n",
    "                                                  self.units)"
   ]
  },
  {
   "cell_type": "code",
   "execution_count": 282,
   "metadata": {
    "nteract": {
     "transient": {
      "deleting": false
     }
    }
   },
   "outputs": [],
   "source": [
    "class Subject(Base):\n",
    "    __tablename__ = \"subjects\"\n",
    "\n",
    "    id = Column(Integer, primary_key=True)\n",
    "    subject = Column(String(50))\n",
    "\n",
    "    def __repr__(self):\n",
    "        return \"<match_results(id='{}', \\\n",
    "                               subject={})>\".format(self.id,\n",
    "                                                    self.subject)"
   ]
  },
  {
   "cell_type": "code",
   "execution_count": 283,
   "metadata": {
    "nteract": {
     "transient": {
      "deleting": false
     }
    }
   },
   "outputs": [],
   "source": [
    "class Group(Base):\n",
    "    __tablename__ = \"groups\"\n",
    "\n",
    "    id = Column(Integer, primary_key=True)\n",
    "    group = Column(String(70))\n",
    "\n",
    "    def __repr__(self):\n",
    "        return \"<match_results(id='{}', \\\n",
    "                               group={})>\".format(self.id,\n",
    "                                                  self.group)"
   ]
  },
  {
   "cell_type": "code",
   "execution_count": 284,
   "metadata": {
    "nteract": {
     "transient": {
      "deleting": false
     }
    }
   },
   "outputs": [],
   "source": [
    "class Series_title_1(Base):\n",
    "    __tablename__ = \"series_titles_1\"\n",
    "\n",
    "    id = Column(Integer, primary_key=True)\n",
    "    series_title_1  = Column(String(75))\n",
    "\n",
    "    def __repr__(self):\n",
    "        return \"<match_results(id='{}', \\\n",
    "                               series_title_1={})>\".format(self.id,\n",
    "                                                           self.series_title_1)\n",
    "\n"
   ]
  },
  {
   "cell_type": "code",
   "execution_count": 285,
   "metadata": {
    "nteract": {
     "transient": {
      "deleting": false
     }
    }
   },
   "outputs": [],
   "source": [
    "class Series_title_2(Base):\n",
    "    __tablename__ = \"series_titles_2\"\n",
    "\n",
    "    id = Column(Integer, primary_key=True)\n",
    "    series_title_2  = Column(String(60))\n",
    "\n",
    "    def __repr__(self):\n",
    "        return \"<match_results(id='{}', \\\n",
    "                               series_title_2={})>\".format(self.id,\n",
    "                                                           self.series_title_2)\n"
   ]
  },
  {
   "cell_type": "code",
   "execution_count": 286,
   "metadata": {
    "nteract": {
     "transient": {
      "deleting": false
     }
    }
   },
   "outputs": [],
   "source": [
    "class Series_title_3(Base):\n",
    "    __tablename__ = \"series_titles_3\"\n",
    "\n",
    "    id = Column(Integer, primary_key=True)\n",
    "    series_title_3  = Column(String(75))\n",
    "\n",
    "\n",
    "    def __repr__(self):\n",
    "        return \"<match_results(id='{}', \\\n",
    "                               series_title_3={})>\".format(self.id,\n",
    "                                                           self.series_title_3)\n"
   ]
  },
  {
   "cell_type": "markdown",
   "metadata": {
    "nteract": {
     "transient": {
      "deleting": false
     }
    }
   },
   "source": [
    "## Part 4 - Insert dataset inside classes"
   ]
  },
  {
   "cell_type": "code",
   "execution_count": 287,
   "metadata": {},
   "outputs": [],
   "source": [
    "df.loc[(df['Series_title_3'].isna()), 'Series_title_3'] = '-'"
   ]
  },
  {
   "cell_type": "code",
   "execution_count": 288,
   "metadata": {
    "jupyter": {
     "outputs_hidden": true,
     "source_hidden": false
    },
    "nteract": {
     "transient": {
      "deleting": false
     }
    }
   },
   "outputs": [],
   "source": [
    "series_reference_list = pd.DataFrame(df['Series_reference'].unique(), columns=['series_reference'])\n",
    "series_reference_list.index.name = 'id'\n",
    "\n",
    "unit_list = pd.DataFrame(df['UNITS'].unique(), columns=['unit'])\n",
    "unit_list.index.name = 'id'\n",
    "\n",
    "subject_list = pd.DataFrame(df['Subject'].unique(), columns=['subject'])\n",
    "subject_list.index.name = 'id'\n",
    "\n",
    "group_list = pd.DataFrame(df['Group'].unique(), columns=['group'])\n",
    "group_list.index.name = 'id'\n",
    "\n",
    "series_title_1_list = pd.DataFrame(df['Series_title_1'].unique(), columns=['series_title_1'])\n",
    "series_title_1_list.index.name = 'id'\n",
    "\n",
    "series_title_2_list = pd.DataFrame(df['Series_title_2'].unique(), columns=['series_title_2'])\n",
    "series_title_2_list.index.name = 'id'\n",
    "\n",
    "series_title_3_list = pd.DataFrame(df['Series_title_3'].unique(), columns=['series_title_3'])\n",
    "series_title_3_list.index.name = 'id'"
   ]
  },
  {
   "cell_type": "code",
   "execution_count": 289,
   "metadata": {},
   "outputs": [
    {
     "output_type": "execute_result",
     "data": {
      "text/plain": "       id_Series_reference   Period  Data_value Suppressed STATUS  id_UNITS  \\\nid                                                                            \n0                        0  2001.03      2462.5        NaN      F         0   \n1                        0  2002.03     17177.2        NaN      F         0   \n2                        0  2003.03     22530.5        NaN      F         0   \n3                        0  2004.03     28005.1        NaN      F         0   \n4                        0  2005.03     30629.6        NaN      F         0   \n...                    ...      ...         ...        ...    ...       ...   \n16914                  136  2019.03        43.5        NaN      F         2   \n16915                  136  2019.06        44.9        NaN      F         2   \n16916                  136  2019.09        44.9        NaN      F         2   \n16917                  136  2019.12        43.6        NaN      F         2   \n16918                  136  2020.03        42.6        NaN      F         2   \n\n       Magnitude  id_Subject  id_Group  id_Series_title_1  id_Series_title_2  \\\nid                                                                             \n0              6           0         0                  0                  0   \n1              6           0         0                  0                  0   \n2              6           0         0                  0                  0   \n3              6           0         0                  0                  0   \n4              6           0         0                  0                  0   \n...          ...         ...       ...                ...                ...   \n16914          0           0         3                  0                 19   \n16915          0           0         3                  0                 19   \n16916          0           0         3                  0                 19   \n16917          0           0         3                  0                 19   \n16918          0           0         3                  0                 19   \n\n       id_Series_title_3  \nid                        \n0                      0  \n1                      0  \n2                      0  \n3                      0  \n4                      0  \n...                  ...  \n16914                  3  \n16915                  3  \n16916                  3  \n16917                  3  \n16918                  3  \n\n[16919 rows x 12 columns]",
      "text/html": "<div>\n<style scoped>\n    .dataframe tbody tr th:only-of-type {\n        vertical-align: middle;\n    }\n\n    .dataframe tbody tr th {\n        vertical-align: top;\n    }\n\n    .dataframe thead th {\n        text-align: right;\n    }\n</style>\n<table border=\"1\" class=\"dataframe\">\n  <thead>\n    <tr style=\"text-align: right;\">\n      <th></th>\n      <th>id_Series_reference</th>\n      <th>Period</th>\n      <th>Data_value</th>\n      <th>Suppressed</th>\n      <th>STATUS</th>\n      <th>id_UNITS</th>\n      <th>Magnitude</th>\n      <th>id_Subject</th>\n      <th>id_Group</th>\n      <th>id_Series_title_1</th>\n      <th>id_Series_title_2</th>\n      <th>id_Series_title_3</th>\n    </tr>\n    <tr>\n      <th>id</th>\n      <th></th>\n      <th></th>\n      <th></th>\n      <th></th>\n      <th></th>\n      <th></th>\n      <th></th>\n      <th></th>\n      <th></th>\n      <th></th>\n      <th></th>\n      <th></th>\n    </tr>\n  </thead>\n  <tbody>\n    <tr>\n      <th>0</th>\n      <td>0</td>\n      <td>2001.03</td>\n      <td>2462.5</td>\n      <td>NaN</td>\n      <td>F</td>\n      <td>0</td>\n      <td>6</td>\n      <td>0</td>\n      <td>0</td>\n      <td>0</td>\n      <td>0</td>\n      <td>0</td>\n    </tr>\n    <tr>\n      <th>1</th>\n      <td>0</td>\n      <td>2002.03</td>\n      <td>17177.2</td>\n      <td>NaN</td>\n      <td>F</td>\n      <td>0</td>\n      <td>6</td>\n      <td>0</td>\n      <td>0</td>\n      <td>0</td>\n      <td>0</td>\n      <td>0</td>\n    </tr>\n    <tr>\n      <th>2</th>\n      <td>0</td>\n      <td>2003.03</td>\n      <td>22530.5</td>\n      <td>NaN</td>\n      <td>F</td>\n      <td>0</td>\n      <td>6</td>\n      <td>0</td>\n      <td>0</td>\n      <td>0</td>\n      <td>0</td>\n      <td>0</td>\n    </tr>\n    <tr>\n      <th>3</th>\n      <td>0</td>\n      <td>2004.03</td>\n      <td>28005.1</td>\n      <td>NaN</td>\n      <td>F</td>\n      <td>0</td>\n      <td>6</td>\n      <td>0</td>\n      <td>0</td>\n      <td>0</td>\n      <td>0</td>\n      <td>0</td>\n    </tr>\n    <tr>\n      <th>4</th>\n      <td>0</td>\n      <td>2005.03</td>\n      <td>30629.6</td>\n      <td>NaN</td>\n      <td>F</td>\n      <td>0</td>\n      <td>6</td>\n      <td>0</td>\n      <td>0</td>\n      <td>0</td>\n      <td>0</td>\n      <td>0</td>\n    </tr>\n    <tr>\n      <th>...</th>\n      <td>...</td>\n      <td>...</td>\n      <td>...</td>\n      <td>...</td>\n      <td>...</td>\n      <td>...</td>\n      <td>...</td>\n      <td>...</td>\n      <td>...</td>\n      <td>...</td>\n      <td>...</td>\n      <td>...</td>\n    </tr>\n    <tr>\n      <th>16914</th>\n      <td>136</td>\n      <td>2019.03</td>\n      <td>43.5</td>\n      <td>NaN</td>\n      <td>F</td>\n      <td>2</td>\n      <td>0</td>\n      <td>0</td>\n      <td>3</td>\n      <td>0</td>\n      <td>19</td>\n      <td>3</td>\n    </tr>\n    <tr>\n      <th>16915</th>\n      <td>136</td>\n      <td>2019.06</td>\n      <td>44.9</td>\n      <td>NaN</td>\n      <td>F</td>\n      <td>2</td>\n      <td>0</td>\n      <td>0</td>\n      <td>3</td>\n      <td>0</td>\n      <td>19</td>\n      <td>3</td>\n    </tr>\n    <tr>\n      <th>16916</th>\n      <td>136</td>\n      <td>2019.09</td>\n      <td>44.9</td>\n      <td>NaN</td>\n      <td>F</td>\n      <td>2</td>\n      <td>0</td>\n      <td>0</td>\n      <td>3</td>\n      <td>0</td>\n      <td>19</td>\n      <td>3</td>\n    </tr>\n    <tr>\n      <th>16917</th>\n      <td>136</td>\n      <td>2019.12</td>\n      <td>43.6</td>\n      <td>NaN</td>\n      <td>F</td>\n      <td>2</td>\n      <td>0</td>\n      <td>0</td>\n      <td>3</td>\n      <td>0</td>\n      <td>19</td>\n      <td>3</td>\n    </tr>\n    <tr>\n      <th>16918</th>\n      <td>136</td>\n      <td>2020.03</td>\n      <td>42.6</td>\n      <td>NaN</td>\n      <td>F</td>\n      <td>2</td>\n      <td>0</td>\n      <td>0</td>\n      <td>3</td>\n      <td>0</td>\n      <td>19</td>\n      <td>3</td>\n    </tr>\n  </tbody>\n</table>\n<p>16919 rows × 12 columns</p>\n</div>"
     },
     "metadata": {},
     "execution_count": 289
    }
   ],
   "source": [
    "transactions_list = df[['Series_reference', 'Period', 'Data_value', 'Suppressed', 'STATUS', 'UNITS', 'Magnitude', 'Subject', 'Group', 'Series_title_1', 'Series_title_2', 'Series_title_3']].drop_duplicates().reset_index().drop(columns = ['index'])\n",
    "transactions_list.index.name = 'id'\n",
    "\n",
    "transactions_list = transactions_list.rename(columns = {'Series_reference':'id_Series_reference'})\n",
    "transactions_list = transactions_list.rename(columns = {'UNITS':'id_UNITS'})\n",
    "transactions_list = transactions_list.rename(columns = {'Subject':'id_Subject'})\n",
    "transactions_list = transactions_list.rename(columns = {'Group':'id_Group'})\n",
    "transactions_list = transactions_list.rename(columns = {'Series_title_1':'id_Series_title_1'})\n",
    "transactions_list = transactions_list.rename(columns = {'Series_title_2':'id_Series_title_2'})\n",
    "transactions_list = transactions_list.rename(columns = {'Series_title_3':'id_Series_title_3'})\n",
    "\n",
    "transactions_list['id_Series_reference'] = transactions_list['id_Series_reference'].map(lambda x:  series_reference_list[series_reference_list['series_reference'] == x].index.values.astype(int)[0])\n",
    "transactions_list['id_UNITS'] = transactions_list['id_UNITS'].map(lambda x:  unit_list[unit_list['unit'] == x].index.values.astype(int)[0])\n",
    "transactions_list['id_Subject'] = transactions_list['id_Subject'].map(lambda x:  subject_list[subject_list['subject'] == x].index.values.astype(int)[0])\n",
    "transactions_list['id_Group'] = transactions_list['id_Group'].map(lambda x:  group_list[group_list['group'] == x].index.values.astype(int)[0])\n",
    "transactions_list['id_Series_title_1'] = transactions_list['id_Series_title_1'].map(lambda x:  series_title_1_list[series_title_1_list['series_title_1'] == x].index.values.astype(int)[0])\n",
    "transactions_list['id_Series_title_2'] = transactions_list['id_Series_title_2'].map(lambda x:  series_title_2_list[series_title_2_list['series_title_2'] == x].index.values.astype(int)[0])\n",
    "transactions_list['id_Series_title_3'] = transactions_list['id_Series_title_3'].map(lambda x:  series_title_3_list[series_title_3_list['series_title_3'] == x].index.values.astype(int)[0])\n",
    "\n",
    "transactions_list"
   ]
  },
  {
   "cell_type": "code",
   "execution_count": 290,
   "metadata": {
    "tags": []
   },
   "outputs": [
    {
     "output_type": "stream",
     "name": "stdout",
     "text": "id\n0        2001-03-01\n1        2002-03-01\n2        2003-03-01\n3        2004-03-01\n4        2005-03-01\n            ...    \n16914    2019-03-01\n16915    2019-06-01\n16916    2019-09-01\n16917    2019-12-01\n16918    2020-03-01\nName: Period, Length: 16919, dtype: object\n"
    }
   ],
   "source": [
    "import datetime\n",
    "\n",
    "# transactions_list['Period'] = transactions_list['Period'].map(lambda x:  datetime.date())\n",
    "for i in range(0, len(transactions_list['Period'])):\n",
    "    x = transactions_list['Period'][i]\n",
    "    year = int(x)\n",
    "    month = int((x - year)*100)+1\n",
    "    transactions_list['Period'][i] = datetime.date(year, month, 1)\n",
    "    \n",
    "# transactions_list['Period'] = transactions_list['Period'].map(lambda x: datetime.date(int(x), (int((x - year)*100)+1), 1) )\n",
    "print(transactions_list['Period'])"
   ]
  },
  {
   "cell_type": "code",
   "execution_count": 291,
   "metadata": {},
   "outputs": [
    {
     "output_type": "error",
     "ename": "IntegrityError",
     "evalue": "(psycopg2.errors.ForeignKeyViolation) insert or update on table \"transactions\" violates foreign key constraint \"transactions_id_Group_fkey\"\nDETAIL:  Key (id_Group)=(1) is not present in table \"subjects\".\n\n[SQL: INSERT INTO transactions (id, \"id_Series_reference\", \"Period\", \"Data_value\", \"Suppressed\", \"STATUS\", \"id_UNITS\", \"Magnitude\", \"id_Subject\", \"id_Group\", \"id_Series_title_1\", \"id_Series_title_2\", \"id_Series_title_3\") VALUES (%(id)s, %(id_Series_reference)s, %(Period)s, %(Data_value)s, %(Suppressed)s, %(STATUS)s, %(id_UNITS)s, %(Magnitude)s, %(id_Subject)s, %(id_Group)s, %(id_Series_title_1)s, %(id_Series_title_2)s, %(id_Series_title_3)s)]\n[parameters: ({'id': 0, 'id_Series_reference': 0, 'Period': datetime.date(2001, 3, 1), 'Data_value': 2462.5, 'Suppressed': None, 'STATUS': 'F', 'id_UNITS': 0, 'Magnitude': 6, 'id_Subject': 0, 'id_Group': 0, 'id_Series_title_1': 0, 'id_Series_title_2': 0, 'id_Series_title_3': 0}, {'id': 1, 'id_Series_reference': 0, 'Period': datetime.date(2002, 3, 1), 'Data_value': 17177.2, 'Suppressed': None, 'STATUS': 'F', 'id_UNITS': 0, 'Magnitude': 6, 'id_Subject': 0, 'id_Group': 0, 'id_Series_title_1': 0, 'id_Series_title_2': 0, 'id_Series_title_3': 0}, {'id': 2, 'id_Series_reference': 0, 'Period': datetime.date(2003, 3, 1), 'Data_value': 22530.5, 'Suppressed': None, 'STATUS': 'F', 'id_UNITS': 0, 'Magnitude': 6, 'id_Subject': 0, 'id_Group': 0, 'id_Series_title_1': 0, 'id_Series_title_2': 0, 'id_Series_title_3': 0}, {'id': 3, 'id_Series_reference': 0, 'Period': datetime.date(2004, 3, 1), 'Data_value': 28005.1, 'Suppressed': None, 'STATUS': 'F', 'id_UNITS': 0, 'Magnitude': 6, 'id_Subject': 0, 'id_Group': 0, 'id_Series_title_1': 0, 'id_Series_title_2': 0, 'id_Series_title_3': 0}, {'id': 4, 'id_Series_reference': 0, 'Period': datetime.date(2005, 3, 1), 'Data_value': 30629.6, 'Suppressed': None, 'STATUS': 'F', 'id_UNITS': 0, 'Magnitude': 6, 'id_Subject': 0, 'id_Group': 0, 'id_Series_title_1': 0, 'id_Series_title_2': 0, 'id_Series_title_3': 0}, {'id': 5, 'id_Series_reference': 0, 'Period': datetime.date(2006, 3, 1), 'Data_value': 33317.4, 'Suppressed': None, 'STATUS': 'F', 'id_UNITS': 0, 'Magnitude': 6, 'id_Subject': 0, 'id_Group': 0, 'id_Series_title_1': 0, 'id_Series_title_2': 0, 'id_Series_title_3': 0}, {'id': 6, 'id_Series_reference': 0, 'Period': datetime.date(2007, 3, 1), 'Data_value': 36422.0, 'Suppressed': None, 'STATUS': 'F', 'id_UNITS': 0, 'Magnitude': 6, 'id_Subject': 0, 'id_Group': 0, 'id_Series_title_1': 0, 'id_Series_title_2': 0, 'id_Series_title_3': 0}, {'id': 7, 'id_Series_reference': 0, 'Period': datetime.date(2008, 3, 1), 'Data_value': 39198.0, 'Suppressed': None, 'STATUS': 'F', 'id_UNITS': 0, 'Magnitude': 6, 'id_Subject': 0, 'id_Group': 0, 'id_Series_title_1': 0, 'id_Series_title_2': 0, 'id_Series_title_3': 0}  ... displaying 10 of 16919 total bound parameter sets ...  {'id': 16917, 'id_Series_reference': 136, 'Period': datetime.date(2019, 12, 1), 'Data_value': 43.6, 'Suppressed': None, 'STATUS': 'F', 'id_UNITS': 2, 'Magnitude': 0, 'id_Subject': 0, 'id_Group': 3, 'id_Series_title_1': 0, 'id_Series_title_2': 19, 'id_Series_title_3': 3}, {'id': 16918, 'id_Series_reference': 136, 'Period': datetime.date(2020, 3, 1), 'Data_value': 42.6, 'Suppressed': None, 'STATUS': 'F', 'id_UNITS': 2, 'Magnitude': 0, 'id_Subject': 0, 'id_Group': 3, 'id_Series_title_1': 0, 'id_Series_title_2': 19, 'id_Series_title_3': 3})]\n(Background on this error at: http://sqlalche.me/e/13/gkpj)",
     "traceback": [
      "\u001b[0;31m---------------------------------------------------------------------------\u001b[0m",
      "\u001b[0;31mForeignKeyViolation\u001b[0m                       Traceback (most recent call last)",
      "\u001b[0;32m~/anaconda3/envs/data_bases/lib/python3.8/site-packages/sqlalchemy/engine/base.py\u001b[0m in \u001b[0;36m_execute_context\u001b[0;34m(self, dialect, constructor, statement, parameters, *args)\u001b[0m\n\u001b[1;32m   1256\u001b[0m                 \u001b[0;32mif\u001b[0m \u001b[0;32mnot\u001b[0m \u001b[0mevt_handled\u001b[0m\u001b[0;34m:\u001b[0m\u001b[0;34m\u001b[0m\u001b[0;34m\u001b[0m\u001b[0m\n\u001b[0;32m-> 1257\u001b[0;31m                     self.dialect.do_executemany(\n\u001b[0m\u001b[1;32m   1258\u001b[0m                         \u001b[0mcursor\u001b[0m\u001b[0;34m,\u001b[0m \u001b[0mstatement\u001b[0m\u001b[0;34m,\u001b[0m \u001b[0mparameters\u001b[0m\u001b[0;34m,\u001b[0m \u001b[0mcontext\u001b[0m\u001b[0;34m\u001b[0m\u001b[0;34m\u001b[0m\u001b[0m\n",
      "\u001b[0;32m~/anaconda3/envs/data_bases/lib/python3.8/site-packages/sqlalchemy/dialects/postgresql/psycopg2.py\u001b[0m in \u001b[0;36mdo_executemany\u001b[0;34m(self, cursor, statement, parameters, context)\u001b[0m\n\u001b[1;32m    872\u001b[0m         \u001b[0;32mif\u001b[0m \u001b[0mself\u001b[0m\u001b[0;34m.\u001b[0m\u001b[0mexecutemany_mode\u001b[0m \u001b[0;32mis\u001b[0m \u001b[0mEXECUTEMANY_DEFAULT\u001b[0m\u001b[0;34m:\u001b[0m\u001b[0;34m\u001b[0m\u001b[0;34m\u001b[0m\u001b[0m\n\u001b[0;32m--> 873\u001b[0;31m             \u001b[0mcursor\u001b[0m\u001b[0;34m.\u001b[0m\u001b[0mexecutemany\u001b[0m\u001b[0;34m(\u001b[0m\u001b[0mstatement\u001b[0m\u001b[0;34m,\u001b[0m \u001b[0mparameters\u001b[0m\u001b[0;34m)\u001b[0m\u001b[0;34m\u001b[0m\u001b[0;34m\u001b[0m\u001b[0m\n\u001b[0m\u001b[1;32m    874\u001b[0m             \u001b[0;32mreturn\u001b[0m\u001b[0;34m\u001b[0m\u001b[0;34m\u001b[0m\u001b[0m\n",
      "\u001b[0;31mForeignKeyViolation\u001b[0m: insert or update on table \"transactions\" violates foreign key constraint \"transactions_id_Group_fkey\"\nDETAIL:  Key (id_Group)=(1) is not present in table \"subjects\".\n",
      "\nThe above exception was the direct cause of the following exception:\n",
      "\u001b[0;31mIntegrityError\u001b[0m                            Traceback (most recent call last)",
      "\u001b[0;32m<ipython-input-291-0aab53f1699c>\u001b[0m in \u001b[0;36m<module>\u001b[0;34m\u001b[0m\n\u001b[1;32m      8\u001b[0m \u001b[0mseries_title_2_list\u001b[0m\u001b[0;34m.\u001b[0m\u001b[0mto_sql\u001b[0m\u001b[0;34m(\u001b[0m\u001b[0;34m'series_titles_2'\u001b[0m\u001b[0;34m,\u001b[0m \u001b[0mengine\u001b[0m\u001b[0;34m,\u001b[0m \u001b[0mif_exists\u001b[0m\u001b[0;34m=\u001b[0m\u001b[0;34m'append'\u001b[0m\u001b[0;34m)\u001b[0m\u001b[0;34m\u001b[0m\u001b[0;34m\u001b[0m\u001b[0m\n\u001b[1;32m      9\u001b[0m \u001b[0mseries_title_3_list\u001b[0m\u001b[0;34m.\u001b[0m\u001b[0mto_sql\u001b[0m\u001b[0;34m(\u001b[0m\u001b[0;34m'series_titles_3'\u001b[0m\u001b[0;34m,\u001b[0m \u001b[0mengine\u001b[0m\u001b[0;34m,\u001b[0m \u001b[0mif_exists\u001b[0m\u001b[0;34m=\u001b[0m\u001b[0;34m'append'\u001b[0m\u001b[0;34m)\u001b[0m\u001b[0;34m\u001b[0m\u001b[0;34m\u001b[0m\u001b[0m\n\u001b[0;32m---> 10\u001b[0;31m \u001b[0mtransactions_list\u001b[0m\u001b[0;34m.\u001b[0m\u001b[0mto_sql\u001b[0m\u001b[0;34m(\u001b[0m\u001b[0;34m'transactions'\u001b[0m\u001b[0;34m,\u001b[0m \u001b[0mengine\u001b[0m\u001b[0;34m,\u001b[0m \u001b[0mif_exists\u001b[0m\u001b[0;34m=\u001b[0m\u001b[0;34m'append'\u001b[0m\u001b[0;34m)\u001b[0m\u001b[0;34m\u001b[0m\u001b[0;34m\u001b[0m\u001b[0m\n\u001b[0m",
      "\u001b[0;32m~/anaconda3/envs/data_bases/lib/python3.8/site-packages/pandas/core/generic.py\u001b[0m in \u001b[0;36mto_sql\u001b[0;34m(self, name, con, schema, if_exists, index, index_label, chunksize, dtype, method)\u001b[0m\n\u001b[1;32m   2651\u001b[0m         \u001b[0;32mfrom\u001b[0m \u001b[0mpandas\u001b[0m\u001b[0;34m.\u001b[0m\u001b[0mio\u001b[0m \u001b[0;32mimport\u001b[0m \u001b[0msql\u001b[0m\u001b[0;34m\u001b[0m\u001b[0;34m\u001b[0m\u001b[0m\n\u001b[1;32m   2652\u001b[0m \u001b[0;34m\u001b[0m\u001b[0m\n\u001b[0;32m-> 2653\u001b[0;31m         sql.to_sql(\n\u001b[0m\u001b[1;32m   2654\u001b[0m             \u001b[0mself\u001b[0m\u001b[0;34m,\u001b[0m\u001b[0;34m\u001b[0m\u001b[0;34m\u001b[0m\u001b[0m\n\u001b[1;32m   2655\u001b[0m             \u001b[0mname\u001b[0m\u001b[0;34m,\u001b[0m\u001b[0;34m\u001b[0m\u001b[0;34m\u001b[0m\u001b[0m\n",
      "\u001b[0;32m~/anaconda3/envs/data_bases/lib/python3.8/site-packages/pandas/io/sql.py\u001b[0m in \u001b[0;36mto_sql\u001b[0;34m(frame, name, con, schema, if_exists, index, index_label, chunksize, dtype, method)\u001b[0m\n\u001b[1;32m    510\u001b[0m         )\n\u001b[1;32m    511\u001b[0m \u001b[0;34m\u001b[0m\u001b[0m\n\u001b[0;32m--> 512\u001b[0;31m     pandas_sql.to_sql(\n\u001b[0m\u001b[1;32m    513\u001b[0m         \u001b[0mframe\u001b[0m\u001b[0;34m,\u001b[0m\u001b[0;34m\u001b[0m\u001b[0;34m\u001b[0m\u001b[0m\n\u001b[1;32m    514\u001b[0m         \u001b[0mname\u001b[0m\u001b[0;34m,\u001b[0m\u001b[0;34m\u001b[0m\u001b[0;34m\u001b[0m\u001b[0m\n",
      "\u001b[0;32m~/anaconda3/envs/data_bases/lib/python3.8/site-packages/pandas/io/sql.py\u001b[0m in \u001b[0;36mto_sql\u001b[0;34m(self, frame, name, if_exists, index, index_label, schema, chunksize, dtype, method)\u001b[0m\n\u001b[1;32m   1315\u001b[0m         )\n\u001b[1;32m   1316\u001b[0m         \u001b[0mtable\u001b[0m\u001b[0;34m.\u001b[0m\u001b[0mcreate\u001b[0m\u001b[0;34m(\u001b[0m\u001b[0;34m)\u001b[0m\u001b[0;34m\u001b[0m\u001b[0;34m\u001b[0m\u001b[0m\n\u001b[0;32m-> 1317\u001b[0;31m         \u001b[0mtable\u001b[0m\u001b[0;34m.\u001b[0m\u001b[0minsert\u001b[0m\u001b[0;34m(\u001b[0m\u001b[0mchunksize\u001b[0m\u001b[0;34m,\u001b[0m \u001b[0mmethod\u001b[0m\u001b[0;34m=\u001b[0m\u001b[0mmethod\u001b[0m\u001b[0;34m)\u001b[0m\u001b[0;34m\u001b[0m\u001b[0;34m\u001b[0m\u001b[0m\n\u001b[0m\u001b[1;32m   1318\u001b[0m         \u001b[0;32mif\u001b[0m \u001b[0;32mnot\u001b[0m \u001b[0mname\u001b[0m\u001b[0;34m.\u001b[0m\u001b[0misdigit\u001b[0m\u001b[0;34m(\u001b[0m\u001b[0;34m)\u001b[0m \u001b[0;32mand\u001b[0m \u001b[0;32mnot\u001b[0m \u001b[0mname\u001b[0m\u001b[0;34m.\u001b[0m\u001b[0mislower\u001b[0m\u001b[0;34m(\u001b[0m\u001b[0;34m)\u001b[0m\u001b[0;34m:\u001b[0m\u001b[0;34m\u001b[0m\u001b[0;34m\u001b[0m\u001b[0m\n\u001b[1;32m   1319\u001b[0m             \u001b[0;31m# check for potentially case sensitivity issues (GH7815)\u001b[0m\u001b[0;34m\u001b[0m\u001b[0;34m\u001b[0m\u001b[0;34m\u001b[0m\u001b[0m\n",
      "\u001b[0;32m~/anaconda3/envs/data_bases/lib/python3.8/site-packages/pandas/io/sql.py\u001b[0m in \u001b[0;36minsert\u001b[0;34m(self, chunksize, method)\u001b[0m\n\u001b[1;32m    753\u001b[0m \u001b[0;34m\u001b[0m\u001b[0m\n\u001b[1;32m    754\u001b[0m                 \u001b[0mchunk_iter\u001b[0m \u001b[0;34m=\u001b[0m \u001b[0mzip\u001b[0m\u001b[0;34m(\u001b[0m\u001b[0;34m*\u001b[0m\u001b[0;34m[\u001b[0m\u001b[0marr\u001b[0m\u001b[0;34m[\u001b[0m\u001b[0mstart_i\u001b[0m\u001b[0;34m:\u001b[0m\u001b[0mend_i\u001b[0m\u001b[0;34m]\u001b[0m \u001b[0;32mfor\u001b[0m \u001b[0marr\u001b[0m \u001b[0;32min\u001b[0m \u001b[0mdata_list\u001b[0m\u001b[0;34m]\u001b[0m\u001b[0;34m)\u001b[0m\u001b[0;34m\u001b[0m\u001b[0;34m\u001b[0m\u001b[0m\n\u001b[0;32m--> 755\u001b[0;31m                 \u001b[0mexec_insert\u001b[0m\u001b[0;34m(\u001b[0m\u001b[0mconn\u001b[0m\u001b[0;34m,\u001b[0m \u001b[0mkeys\u001b[0m\u001b[0;34m,\u001b[0m \u001b[0mchunk_iter\u001b[0m\u001b[0;34m)\u001b[0m\u001b[0;34m\u001b[0m\u001b[0;34m\u001b[0m\u001b[0m\n\u001b[0m\u001b[1;32m    756\u001b[0m \u001b[0;34m\u001b[0m\u001b[0m\n\u001b[1;32m    757\u001b[0m     def _query_iterator(\n",
      "\u001b[0;32m~/anaconda3/envs/data_bases/lib/python3.8/site-packages/pandas/io/sql.py\u001b[0m in \u001b[0;36m_execute_insert\u001b[0;34m(self, conn, keys, data_iter)\u001b[0m\n\u001b[1;32m    667\u001b[0m         \"\"\"\n\u001b[1;32m    668\u001b[0m         \u001b[0mdata\u001b[0m \u001b[0;34m=\u001b[0m \u001b[0;34m[\u001b[0m\u001b[0mdict\u001b[0m\u001b[0;34m(\u001b[0m\u001b[0mzip\u001b[0m\u001b[0;34m(\u001b[0m\u001b[0mkeys\u001b[0m\u001b[0;34m,\u001b[0m \u001b[0mrow\u001b[0m\u001b[0;34m)\u001b[0m\u001b[0;34m)\u001b[0m \u001b[0;32mfor\u001b[0m \u001b[0mrow\u001b[0m \u001b[0;32min\u001b[0m \u001b[0mdata_iter\u001b[0m\u001b[0;34m]\u001b[0m\u001b[0;34m\u001b[0m\u001b[0;34m\u001b[0m\u001b[0m\n\u001b[0;32m--> 669\u001b[0;31m         \u001b[0mconn\u001b[0m\u001b[0;34m.\u001b[0m\u001b[0mexecute\u001b[0m\u001b[0;34m(\u001b[0m\u001b[0mself\u001b[0m\u001b[0;34m.\u001b[0m\u001b[0mtable\u001b[0m\u001b[0;34m.\u001b[0m\u001b[0minsert\u001b[0m\u001b[0;34m(\u001b[0m\u001b[0;34m)\u001b[0m\u001b[0;34m,\u001b[0m \u001b[0mdata\u001b[0m\u001b[0;34m)\u001b[0m\u001b[0;34m\u001b[0m\u001b[0;34m\u001b[0m\u001b[0m\n\u001b[0m\u001b[1;32m    670\u001b[0m \u001b[0;34m\u001b[0m\u001b[0m\n\u001b[1;32m    671\u001b[0m     \u001b[0;32mdef\u001b[0m \u001b[0m_execute_insert_multi\u001b[0m\u001b[0;34m(\u001b[0m\u001b[0mself\u001b[0m\u001b[0;34m,\u001b[0m \u001b[0mconn\u001b[0m\u001b[0;34m,\u001b[0m \u001b[0mkeys\u001b[0m\u001b[0;34m,\u001b[0m \u001b[0mdata_iter\u001b[0m\u001b[0;34m)\u001b[0m\u001b[0;34m:\u001b[0m\u001b[0;34m\u001b[0m\u001b[0;34m\u001b[0m\u001b[0m\n",
      "\u001b[0;32m~/anaconda3/envs/data_bases/lib/python3.8/site-packages/sqlalchemy/engine/base.py\u001b[0m in \u001b[0;36mexecute\u001b[0;34m(self, object_, *multiparams, **params)\u001b[0m\n\u001b[1;32m   1012\u001b[0m             )\n\u001b[1;32m   1013\u001b[0m         \u001b[0;32melse\u001b[0m\u001b[0;34m:\u001b[0m\u001b[0;34m\u001b[0m\u001b[0;34m\u001b[0m\u001b[0m\n\u001b[0;32m-> 1014\u001b[0;31m             \u001b[0;32mreturn\u001b[0m \u001b[0mmeth\u001b[0m\u001b[0;34m(\u001b[0m\u001b[0mself\u001b[0m\u001b[0;34m,\u001b[0m \u001b[0mmultiparams\u001b[0m\u001b[0;34m,\u001b[0m \u001b[0mparams\u001b[0m\u001b[0;34m)\u001b[0m\u001b[0;34m\u001b[0m\u001b[0;34m\u001b[0m\u001b[0m\n\u001b[0m\u001b[1;32m   1015\u001b[0m \u001b[0;34m\u001b[0m\u001b[0m\n\u001b[1;32m   1016\u001b[0m     \u001b[0;32mdef\u001b[0m \u001b[0m_execute_function\u001b[0m\u001b[0;34m(\u001b[0m\u001b[0mself\u001b[0m\u001b[0;34m,\u001b[0m \u001b[0mfunc\u001b[0m\u001b[0;34m,\u001b[0m \u001b[0mmultiparams\u001b[0m\u001b[0;34m,\u001b[0m \u001b[0mparams\u001b[0m\u001b[0;34m)\u001b[0m\u001b[0;34m:\u001b[0m\u001b[0;34m\u001b[0m\u001b[0;34m\u001b[0m\u001b[0m\n",
      "\u001b[0;32m~/anaconda3/envs/data_bases/lib/python3.8/site-packages/sqlalchemy/sql/elements.py\u001b[0m in \u001b[0;36m_execute_on_connection\u001b[0;34m(self, connection, multiparams, params)\u001b[0m\n\u001b[1;32m    296\u001b[0m     \u001b[0;32mdef\u001b[0m \u001b[0m_execute_on_connection\u001b[0m\u001b[0;34m(\u001b[0m\u001b[0mself\u001b[0m\u001b[0;34m,\u001b[0m \u001b[0mconnection\u001b[0m\u001b[0;34m,\u001b[0m \u001b[0mmultiparams\u001b[0m\u001b[0;34m,\u001b[0m \u001b[0mparams\u001b[0m\u001b[0;34m)\u001b[0m\u001b[0;34m:\u001b[0m\u001b[0;34m\u001b[0m\u001b[0;34m\u001b[0m\u001b[0m\n\u001b[1;32m    297\u001b[0m         \u001b[0;32mif\u001b[0m \u001b[0mself\u001b[0m\u001b[0;34m.\u001b[0m\u001b[0msupports_execution\u001b[0m\u001b[0;34m:\u001b[0m\u001b[0;34m\u001b[0m\u001b[0;34m\u001b[0m\u001b[0m\n\u001b[0;32m--> 298\u001b[0;31m             \u001b[0;32mreturn\u001b[0m \u001b[0mconnection\u001b[0m\u001b[0;34m.\u001b[0m\u001b[0m_execute_clauseelement\u001b[0m\u001b[0;34m(\u001b[0m\u001b[0mself\u001b[0m\u001b[0;34m,\u001b[0m \u001b[0mmultiparams\u001b[0m\u001b[0;34m,\u001b[0m \u001b[0mparams\u001b[0m\u001b[0;34m)\u001b[0m\u001b[0;34m\u001b[0m\u001b[0;34m\u001b[0m\u001b[0m\n\u001b[0m\u001b[1;32m    299\u001b[0m         \u001b[0;32melse\u001b[0m\u001b[0;34m:\u001b[0m\u001b[0;34m\u001b[0m\u001b[0;34m\u001b[0m\u001b[0m\n\u001b[1;32m    300\u001b[0m             \u001b[0;32mraise\u001b[0m \u001b[0mexc\u001b[0m\u001b[0;34m.\u001b[0m\u001b[0mObjectNotExecutableError\u001b[0m\u001b[0;34m(\u001b[0m\u001b[0mself\u001b[0m\u001b[0;34m)\u001b[0m\u001b[0;34m\u001b[0m\u001b[0;34m\u001b[0m\u001b[0m\n",
      "\u001b[0;32m~/anaconda3/envs/data_bases/lib/python3.8/site-packages/sqlalchemy/engine/base.py\u001b[0m in \u001b[0;36m_execute_clauseelement\u001b[0;34m(self, elem, multiparams, params)\u001b[0m\n\u001b[1;32m   1125\u001b[0m             )\n\u001b[1;32m   1126\u001b[0m \u001b[0;34m\u001b[0m\u001b[0m\n\u001b[0;32m-> 1127\u001b[0;31m         ret = self._execute_context(\n\u001b[0m\u001b[1;32m   1128\u001b[0m             \u001b[0mdialect\u001b[0m\u001b[0;34m,\u001b[0m\u001b[0;34m\u001b[0m\u001b[0;34m\u001b[0m\u001b[0m\n\u001b[1;32m   1129\u001b[0m             \u001b[0mdialect\u001b[0m\u001b[0;34m.\u001b[0m\u001b[0mexecution_ctx_cls\u001b[0m\u001b[0;34m.\u001b[0m\u001b[0m_init_compiled\u001b[0m\u001b[0;34m,\u001b[0m\u001b[0;34m\u001b[0m\u001b[0;34m\u001b[0m\u001b[0m\n",
      "\u001b[0;32m~/anaconda3/envs/data_bases/lib/python3.8/site-packages/sqlalchemy/engine/base.py\u001b[0m in \u001b[0;36m_execute_context\u001b[0;34m(self, dialect, constructor, statement, parameters, *args)\u001b[0m\n\u001b[1;32m   1315\u001b[0m \u001b[0;34m\u001b[0m\u001b[0m\n\u001b[1;32m   1316\u001b[0m         \u001b[0;32mexcept\u001b[0m \u001b[0mBaseException\u001b[0m \u001b[0;32mas\u001b[0m \u001b[0me\u001b[0m\u001b[0;34m:\u001b[0m\u001b[0;34m\u001b[0m\u001b[0;34m\u001b[0m\u001b[0m\n\u001b[0;32m-> 1317\u001b[0;31m             self._handle_dbapi_exception(\n\u001b[0m\u001b[1;32m   1318\u001b[0m                 \u001b[0me\u001b[0m\u001b[0;34m,\u001b[0m \u001b[0mstatement\u001b[0m\u001b[0;34m,\u001b[0m \u001b[0mparameters\u001b[0m\u001b[0;34m,\u001b[0m \u001b[0mcursor\u001b[0m\u001b[0;34m,\u001b[0m \u001b[0mcontext\u001b[0m\u001b[0;34m\u001b[0m\u001b[0;34m\u001b[0m\u001b[0m\n\u001b[1;32m   1319\u001b[0m             )\n",
      "\u001b[0;32m~/anaconda3/envs/data_bases/lib/python3.8/site-packages/sqlalchemy/engine/base.py\u001b[0m in \u001b[0;36m_handle_dbapi_exception\u001b[0;34m(self, e, statement, parameters, cursor, context)\u001b[0m\n\u001b[1;32m   1509\u001b[0m                 \u001b[0mutil\u001b[0m\u001b[0;34m.\u001b[0m\u001b[0mraise_\u001b[0m\u001b[0;34m(\u001b[0m\u001b[0mnewraise\u001b[0m\u001b[0;34m,\u001b[0m \u001b[0mwith_traceback\u001b[0m\u001b[0;34m=\u001b[0m\u001b[0mexc_info\u001b[0m\u001b[0;34m[\u001b[0m\u001b[0;36m2\u001b[0m\u001b[0;34m]\u001b[0m\u001b[0;34m,\u001b[0m \u001b[0mfrom_\u001b[0m\u001b[0;34m=\u001b[0m\u001b[0me\u001b[0m\u001b[0;34m)\u001b[0m\u001b[0;34m\u001b[0m\u001b[0;34m\u001b[0m\u001b[0m\n\u001b[1;32m   1510\u001b[0m             \u001b[0;32melif\u001b[0m \u001b[0mshould_wrap\u001b[0m\u001b[0;34m:\u001b[0m\u001b[0;34m\u001b[0m\u001b[0;34m\u001b[0m\u001b[0m\n\u001b[0;32m-> 1511\u001b[0;31m                 util.raise_(\n\u001b[0m\u001b[1;32m   1512\u001b[0m                     \u001b[0msqlalchemy_exception\u001b[0m\u001b[0;34m,\u001b[0m \u001b[0mwith_traceback\u001b[0m\u001b[0;34m=\u001b[0m\u001b[0mexc_info\u001b[0m\u001b[0;34m[\u001b[0m\u001b[0;36m2\u001b[0m\u001b[0;34m]\u001b[0m\u001b[0;34m,\u001b[0m \u001b[0mfrom_\u001b[0m\u001b[0;34m=\u001b[0m\u001b[0me\u001b[0m\u001b[0;34m\u001b[0m\u001b[0;34m\u001b[0m\u001b[0m\n\u001b[1;32m   1513\u001b[0m                 )\n",
      "\u001b[0;32m~/anaconda3/envs/data_bases/lib/python3.8/site-packages/sqlalchemy/util/compat.py\u001b[0m in \u001b[0;36mraise_\u001b[0;34m(***failed resolving arguments***)\u001b[0m\n\u001b[1;32m    176\u001b[0m \u001b[0;34m\u001b[0m\u001b[0m\n\u001b[1;32m    177\u001b[0m         \u001b[0;32mtry\u001b[0m\u001b[0;34m:\u001b[0m\u001b[0;34m\u001b[0m\u001b[0;34m\u001b[0m\u001b[0m\n\u001b[0;32m--> 178\u001b[0;31m             \u001b[0;32mraise\u001b[0m \u001b[0mexception\u001b[0m\u001b[0;34m\u001b[0m\u001b[0;34m\u001b[0m\u001b[0m\n\u001b[0m\u001b[1;32m    179\u001b[0m         \u001b[0;32mfinally\u001b[0m\u001b[0;34m:\u001b[0m\u001b[0;34m\u001b[0m\u001b[0;34m\u001b[0m\u001b[0m\n\u001b[1;32m    180\u001b[0m             \u001b[0;31m# credit to\u001b[0m\u001b[0;34m\u001b[0m\u001b[0;34m\u001b[0m\u001b[0;34m\u001b[0m\u001b[0m\n",
      "\u001b[0;32m~/anaconda3/envs/data_bases/lib/python3.8/site-packages/sqlalchemy/engine/base.py\u001b[0m in \u001b[0;36m_execute_context\u001b[0;34m(self, dialect, constructor, statement, parameters, *args)\u001b[0m\n\u001b[1;32m   1255\u001b[0m                             \u001b[0;32mbreak\u001b[0m\u001b[0;34m\u001b[0m\u001b[0;34m\u001b[0m\u001b[0m\n\u001b[1;32m   1256\u001b[0m                 \u001b[0;32mif\u001b[0m \u001b[0;32mnot\u001b[0m \u001b[0mevt_handled\u001b[0m\u001b[0;34m:\u001b[0m\u001b[0;34m\u001b[0m\u001b[0;34m\u001b[0m\u001b[0m\n\u001b[0;32m-> 1257\u001b[0;31m                     self.dialect.do_executemany(\n\u001b[0m\u001b[1;32m   1258\u001b[0m                         \u001b[0mcursor\u001b[0m\u001b[0;34m,\u001b[0m \u001b[0mstatement\u001b[0m\u001b[0;34m,\u001b[0m \u001b[0mparameters\u001b[0m\u001b[0;34m,\u001b[0m \u001b[0mcontext\u001b[0m\u001b[0;34m\u001b[0m\u001b[0;34m\u001b[0m\u001b[0m\n\u001b[1;32m   1259\u001b[0m                     )\n",
      "\u001b[0;32m~/anaconda3/envs/data_bases/lib/python3.8/site-packages/sqlalchemy/dialects/postgresql/psycopg2.py\u001b[0m in \u001b[0;36mdo_executemany\u001b[0;34m(self, cursor, statement, parameters, context)\u001b[0m\n\u001b[1;32m    871\u001b[0m     \u001b[0;32mdef\u001b[0m \u001b[0mdo_executemany\u001b[0m\u001b[0;34m(\u001b[0m\u001b[0mself\u001b[0m\u001b[0;34m,\u001b[0m \u001b[0mcursor\u001b[0m\u001b[0;34m,\u001b[0m \u001b[0mstatement\u001b[0m\u001b[0;34m,\u001b[0m \u001b[0mparameters\u001b[0m\u001b[0;34m,\u001b[0m \u001b[0mcontext\u001b[0m\u001b[0;34m=\u001b[0m\u001b[0;32mNone\u001b[0m\u001b[0;34m)\u001b[0m\u001b[0;34m:\u001b[0m\u001b[0;34m\u001b[0m\u001b[0;34m\u001b[0m\u001b[0m\n\u001b[1;32m    872\u001b[0m         \u001b[0;32mif\u001b[0m \u001b[0mself\u001b[0m\u001b[0;34m.\u001b[0m\u001b[0mexecutemany_mode\u001b[0m \u001b[0;32mis\u001b[0m \u001b[0mEXECUTEMANY_DEFAULT\u001b[0m\u001b[0;34m:\u001b[0m\u001b[0;34m\u001b[0m\u001b[0;34m\u001b[0m\u001b[0m\n\u001b[0;32m--> 873\u001b[0;31m             \u001b[0mcursor\u001b[0m\u001b[0;34m.\u001b[0m\u001b[0mexecutemany\u001b[0m\u001b[0;34m(\u001b[0m\u001b[0mstatement\u001b[0m\u001b[0;34m,\u001b[0m \u001b[0mparameters\u001b[0m\u001b[0;34m)\u001b[0m\u001b[0;34m\u001b[0m\u001b[0;34m\u001b[0m\u001b[0m\n\u001b[0m\u001b[1;32m    874\u001b[0m             \u001b[0;32mreturn\u001b[0m\u001b[0;34m\u001b[0m\u001b[0;34m\u001b[0m\u001b[0m\n\u001b[1;32m    875\u001b[0m \u001b[0;34m\u001b[0m\u001b[0m\n",
      "\u001b[0;31mIntegrityError\u001b[0m: (psycopg2.errors.ForeignKeyViolation) insert or update on table \"transactions\" violates foreign key constraint \"transactions_id_Group_fkey\"\nDETAIL:  Key (id_Group)=(1) is not present in table \"subjects\".\n\n[SQL: INSERT INTO transactions (id, \"id_Series_reference\", \"Period\", \"Data_value\", \"Suppressed\", \"STATUS\", \"id_UNITS\", \"Magnitude\", \"id_Subject\", \"id_Group\", \"id_Series_title_1\", \"id_Series_title_2\", \"id_Series_title_3\") VALUES (%(id)s, %(id_Series_reference)s, %(Period)s, %(Data_value)s, %(Suppressed)s, %(STATUS)s, %(id_UNITS)s, %(Magnitude)s, %(id_Subject)s, %(id_Group)s, %(id_Series_title_1)s, %(id_Series_title_2)s, %(id_Series_title_3)s)]\n[parameters: ({'id': 0, 'id_Series_reference': 0, 'Period': datetime.date(2001, 3, 1), 'Data_value': 2462.5, 'Suppressed': None, 'STATUS': 'F', 'id_UNITS': 0, 'Magnitude': 6, 'id_Subject': 0, 'id_Group': 0, 'id_Series_title_1': 0, 'id_Series_title_2': 0, 'id_Series_title_3': 0}, {'id': 1, 'id_Series_reference': 0, 'Period': datetime.date(2002, 3, 1), 'Data_value': 17177.2, 'Suppressed': None, 'STATUS': 'F', 'id_UNITS': 0, 'Magnitude': 6, 'id_Subject': 0, 'id_Group': 0, 'id_Series_title_1': 0, 'id_Series_title_2': 0, 'id_Series_title_3': 0}, {'id': 2, 'id_Series_reference': 0, 'Period': datetime.date(2003, 3, 1), 'Data_value': 22530.5, 'Suppressed': None, 'STATUS': 'F', 'id_UNITS': 0, 'Magnitude': 6, 'id_Subject': 0, 'id_Group': 0, 'id_Series_title_1': 0, 'id_Series_title_2': 0, 'id_Series_title_3': 0}, {'id': 3, 'id_Series_reference': 0, 'Period': datetime.date(2004, 3, 1), 'Data_value': 28005.1, 'Suppressed': None, 'STATUS': 'F', 'id_UNITS': 0, 'Magnitude': 6, 'id_Subject': 0, 'id_Group': 0, 'id_Series_title_1': 0, 'id_Series_title_2': 0, 'id_Series_title_3': 0}, {'id': 4, 'id_Series_reference': 0, 'Period': datetime.date(2005, 3, 1), 'Data_value': 30629.6, 'Suppressed': None, 'STATUS': 'F', 'id_UNITS': 0, 'Magnitude': 6, 'id_Subject': 0, 'id_Group': 0, 'id_Series_title_1': 0, 'id_Series_title_2': 0, 'id_Series_title_3': 0}, {'id': 5, 'id_Series_reference': 0, 'Period': datetime.date(2006, 3, 1), 'Data_value': 33317.4, 'Suppressed': None, 'STATUS': 'F', 'id_UNITS': 0, 'Magnitude': 6, 'id_Subject': 0, 'id_Group': 0, 'id_Series_title_1': 0, 'id_Series_title_2': 0, 'id_Series_title_3': 0}, {'id': 6, 'id_Series_reference': 0, 'Period': datetime.date(2007, 3, 1), 'Data_value': 36422.0, 'Suppressed': None, 'STATUS': 'F', 'id_UNITS': 0, 'Magnitude': 6, 'id_Subject': 0, 'id_Group': 0, 'id_Series_title_1': 0, 'id_Series_title_2': 0, 'id_Series_title_3': 0}, {'id': 7, 'id_Series_reference': 0, 'Period': datetime.date(2008, 3, 1), 'Data_value': 39198.0, 'Suppressed': None, 'STATUS': 'F', 'id_UNITS': 0, 'Magnitude': 6, 'id_Subject': 0, 'id_Group': 0, 'id_Series_title_1': 0, 'id_Series_title_2': 0, 'id_Series_title_3': 0}  ... displaying 10 of 16919 total bound parameter sets ...  {'id': 16917, 'id_Series_reference': 136, 'Period': datetime.date(2019, 12, 1), 'Data_value': 43.6, 'Suppressed': None, 'STATUS': 'F', 'id_UNITS': 2, 'Magnitude': 0, 'id_Subject': 0, 'id_Group': 3, 'id_Series_title_1': 0, 'id_Series_title_2': 19, 'id_Series_title_3': 3}, {'id': 16918, 'id_Series_reference': 136, 'Period': datetime.date(2020, 3, 1), 'Data_value': 42.6, 'Suppressed': None, 'STATUS': 'F', 'id_UNITS': 2, 'Magnitude': 0, 'id_Subject': 0, 'id_Group': 3, 'id_Series_title_1': 0, 'id_Series_title_2': 19, 'id_Series_title_3': 3})]\n(Background on this error at: http://sqlalche.me/e/13/gkpj)"
     ]
    }
   ],
   "source": [
    "Base.metadata.create_all(engine)\n",
    "\n",
    "series_reference_list.to_sql('series_references', engine, if_exists='append')\n",
    "unit_list.to_sql('units', engine, if_exists='append')\n",
    "subject_list.to_sql('subjects', engine, if_exists='append')\n",
    "group_list.to_sql('groups', engine, if_exists='append')\n",
    "series_title_1_list.to_sql('series_titles_1', engine, if_exists='append')\n",
    "series_title_2_list.to_sql('series_titles_2', engine, if_exists='append')\n",
    "series_title_3_list.to_sql('series_titles_3', engine, if_exists='append')\n"
   ]
  },
  {
   "cell_type": "code",
   "execution_count": 295,
   "metadata": {},
   "outputs": [
    {
     "output_type": "execute_result",
     "data": {
      "text/plain": "0"
     },
     "metadata": {},
     "execution_count": 295
    }
   ],
   "source": [
    "transactions_list['id_Subject'].unique()[0]"
   ]
  },
  {
   "cell_type": "markdown",
   "metadata": {
    "nteract": {
     "transient": {
      "deleting": false
     }
    }
   },
   "source": [
    "## Part 5 - Check if works"
   ]
  }
 ],
 "metadata": {
  "kernelspec": {
   "display_name": "Python 3",
   "language": "python",
   "name": "python3"
  },
  "language_info": {
   "codemirror_mode": {
    "name": "ipython",
    "version": 3
   },
   "file_extension": ".py",
   "mimetype": "text/x-python",
   "name": "python",
   "nbconvert_exporter": "python",
   "pygments_lexer": "ipython3",
   "version": "3.8.2-final"
  }
 },
 "nbformat": 4,
 "nbformat_minor": 4
}