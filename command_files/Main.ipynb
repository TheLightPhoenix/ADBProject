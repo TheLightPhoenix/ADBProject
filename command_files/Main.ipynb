{
 "cells": [
  {
   "cell_type": "markdown",
   "metadata": {
    "nteract": {
     "transient": {
      "deleting": false
     }
    }
   },
   "source": [
    "# Advanced Databases - project\n",
    "## Cyber-Physical Systems\n",
    "#### Authors: Rafał Bieszczad, Bartłomiej Gondek, Monika Król, Maciej Stępień"
   ]
  },
  {
   "cell_type": "markdown",
   "metadata": {
    "nteract": {
     "transient": {
      "deleting": false
     }
    }
   },
   "source": [
    "**Table of contents**\n",
    "1. Part 1 - Overview\n",
    "2. Part 2 - Dataset into DataFrame\n",
    "3. Part 3 - Classes\n",
    "4. Part 4 - Insert dataset inside classes\n",
    "5. Part 5 - Check if works"
   ]
  },
  {
   "cell_type": "markdown",
   "metadata": {
    "nteract": {
     "transient": {
      "deleting": false
     }
    }
   },
   "source": [
    "## Part 1 - Overview\n",
    "**Code** is avalible on [GitHub](https://github.com/TheLightPhoenix/ADBProject).\\\n",
    "Database is based on \"*Electronic card transactions: May 2020*\" **data** taken from [this website](https://www.stats.govt.nz/information-releases/electronic-card-transactions-may-2020)."
   ]
  },
  {
   "cell_type": "markdown",
   "metadata": {
    "nteract": {
     "transient": {
      "deleting": false
     }
    }
   },
   "source": [
    "## Part 2 - Dataset into DataFrame"
   ]
  },
  {
   "cell_type": "code",
   "execution_count": 1,
   "metadata": {
    "nteract": {
     "transient": {
      "deleting": false
     }
    }
   },
   "outputs": [],
   "source": [
    "from sqlalchemy import create_engine\n",
    "\n",
    "database_type = \"postgresql\"\n",
    "user = \"postgres\"\n",
    "password = \"#_1234\"\n",
    "database_url = \"localhost\"\n",
    "port = 5432\n",
    "database_name = \"postgres\"\n",
    "db_string = \"{:s}://{:s}:{:s}@{:s}:{:d}/{:s}\".format(database_type, user, password, database_url, port, database_name)\n",
    "\n",
    "engine = create_engine(db_string)"
   ]
  },
  {
   "cell_type": "code",
   "execution_count": 2,
   "metadata": {
    "nteract": {
     "transient": {
      "deleting": false
     }
    }
   },
   "outputs": [],
   "source": [
    "import pandas as pd\n",
    "\n",
    "df = pd.read_csv(\"../working_data/electronic-card-transactions-may-2020-csv-tables.csv\")"
   ]
  },
  {
   "cell_type": "code",
   "execution_count": 3,
   "metadata": {
    "nteract": {
     "transient": {
      "deleting": false
     }
    }
   },
   "outputs": [
    {
     "data": {
      "text/html": [
       "<div>\n",
       "<style scoped>\n",
       "    .dataframe tbody tr th:only-of-type {\n",
       "        vertical-align: middle;\n",
       "    }\n",
       "\n",
       "    .dataframe tbody tr th {\n",
       "        vertical-align: top;\n",
       "    }\n",
       "\n",
       "    .dataframe thead th {\n",
       "        text-align: right;\n",
       "    }\n",
       "</style>\n",
       "<table border=\"1\" class=\"dataframe\">\n",
       "  <thead>\n",
       "    <tr style=\"text-align: right;\">\n",
       "      <th></th>\n",
       "      <th>Series_reference</th>\n",
       "      <th>Period</th>\n",
       "      <th>Data_value</th>\n",
       "      <th>Suppressed</th>\n",
       "      <th>STATUS</th>\n",
       "      <th>UNITS</th>\n",
       "      <th>Magnitude</th>\n",
       "      <th>Subject</th>\n",
       "      <th>Group</th>\n",
       "      <th>Series_title_1</th>\n",
       "      <th>Series_title_2</th>\n",
       "      <th>Series_title_3</th>\n",
       "      <th>Series_title_4</th>\n",
       "      <th>Series_title_5</th>\n",
       "    </tr>\n",
       "  </thead>\n",
       "  <tbody>\n",
       "    <tr>\n",
       "      <th>0</th>\n",
       "      <td>ECTA.S19A1</td>\n",
       "      <td>2001.03</td>\n",
       "      <td>2462.5</td>\n",
       "      <td>NaN</td>\n",
       "      <td>F</td>\n",
       "      <td>Dollars</td>\n",
       "      <td>6</td>\n",
       "      <td>Electronic Card Transactions (ANZSIC06) - ECT</td>\n",
       "      <td>Total values - Electronic card transactions A/...</td>\n",
       "      <td>Actual</td>\n",
       "      <td>RTS total industries</td>\n",
       "      <td>NaN</td>\n",
       "      <td>NaN</td>\n",
       "      <td>NaN</td>\n",
       "    </tr>\n",
       "    <tr>\n",
       "      <th>1</th>\n",
       "      <td>ECTA.S19A1</td>\n",
       "      <td>2002.03</td>\n",
       "      <td>17177.2</td>\n",
       "      <td>NaN</td>\n",
       "      <td>F</td>\n",
       "      <td>Dollars</td>\n",
       "      <td>6</td>\n",
       "      <td>Electronic Card Transactions (ANZSIC06) - ECT</td>\n",
       "      <td>Total values - Electronic card transactions A/...</td>\n",
       "      <td>Actual</td>\n",
       "      <td>RTS total industries</td>\n",
       "      <td>NaN</td>\n",
       "      <td>NaN</td>\n",
       "      <td>NaN</td>\n",
       "    </tr>\n",
       "    <tr>\n",
       "      <th>2</th>\n",
       "      <td>ECTA.S19A1</td>\n",
       "      <td>2003.03</td>\n",
       "      <td>22530.5</td>\n",
       "      <td>NaN</td>\n",
       "      <td>F</td>\n",
       "      <td>Dollars</td>\n",
       "      <td>6</td>\n",
       "      <td>Electronic Card Transactions (ANZSIC06) - ECT</td>\n",
       "      <td>Total values - Electronic card transactions A/...</td>\n",
       "      <td>Actual</td>\n",
       "      <td>RTS total industries</td>\n",
       "      <td>NaN</td>\n",
       "      <td>NaN</td>\n",
       "      <td>NaN</td>\n",
       "    </tr>\n",
       "    <tr>\n",
       "      <th>3</th>\n",
       "      <td>ECTA.S19A1</td>\n",
       "      <td>2004.03</td>\n",
       "      <td>28005.1</td>\n",
       "      <td>NaN</td>\n",
       "      <td>F</td>\n",
       "      <td>Dollars</td>\n",
       "      <td>6</td>\n",
       "      <td>Electronic Card Transactions (ANZSIC06) - ECT</td>\n",
       "      <td>Total values - Electronic card transactions A/...</td>\n",
       "      <td>Actual</td>\n",
       "      <td>RTS total industries</td>\n",
       "      <td>NaN</td>\n",
       "      <td>NaN</td>\n",
       "      <td>NaN</td>\n",
       "    </tr>\n",
       "    <tr>\n",
       "      <th>4</th>\n",
       "      <td>ECTA.S19A1</td>\n",
       "      <td>2005.03</td>\n",
       "      <td>30629.6</td>\n",
       "      <td>NaN</td>\n",
       "      <td>F</td>\n",
       "      <td>Dollars</td>\n",
       "      <td>6</td>\n",
       "      <td>Electronic Card Transactions (ANZSIC06) - ECT</td>\n",
       "      <td>Total values - Electronic card transactions A/...</td>\n",
       "      <td>Actual</td>\n",
       "      <td>RTS total industries</td>\n",
       "      <td>NaN</td>\n",
       "      <td>NaN</td>\n",
       "      <td>NaN</td>\n",
       "    </tr>\n",
       "  </tbody>\n",
       "</table>\n",
       "</div>"
      ],
      "text/plain": [
       "  Series_reference   Period  Data_value Suppressed STATUS    UNITS  Magnitude  \\\n",
       "0       ECTA.S19A1  2001.03      2462.5        NaN      F  Dollars          6   \n",
       "1       ECTA.S19A1  2002.03     17177.2        NaN      F  Dollars          6   \n",
       "2       ECTA.S19A1  2003.03     22530.5        NaN      F  Dollars          6   \n",
       "3       ECTA.S19A1  2004.03     28005.1        NaN      F  Dollars          6   \n",
       "4       ECTA.S19A1  2005.03     30629.6        NaN      F  Dollars          6   \n",
       "\n",
       "                                         Subject  \\\n",
       "0  Electronic Card Transactions (ANZSIC06) - ECT   \n",
       "1  Electronic Card Transactions (ANZSIC06) - ECT   \n",
       "2  Electronic Card Transactions (ANZSIC06) - ECT   \n",
       "3  Electronic Card Transactions (ANZSIC06) - ECT   \n",
       "4  Electronic Card Transactions (ANZSIC06) - ECT   \n",
       "\n",
       "                                               Group Series_title_1  \\\n",
       "0  Total values - Electronic card transactions A/...         Actual   \n",
       "1  Total values - Electronic card transactions A/...         Actual   \n",
       "2  Total values - Electronic card transactions A/...         Actual   \n",
       "3  Total values - Electronic card transactions A/...         Actual   \n",
       "4  Total values - Electronic card transactions A/...         Actual   \n",
       "\n",
       "         Series_title_2 Series_title_3  Series_title_4  Series_title_5  \n",
       "0  RTS total industries            NaN             NaN             NaN  \n",
       "1  RTS total industries            NaN             NaN             NaN  \n",
       "2  RTS total industries            NaN             NaN             NaN  \n",
       "3  RTS total industries            NaN             NaN             NaN  \n",
       "4  RTS total industries            NaN             NaN             NaN  "
      ]
     },
     "execution_count": 3,
     "metadata": {},
     "output_type": "execute_result"
    }
   ],
   "source": [
    "df.head()"
   ]
  },
  {
   "cell_type": "markdown",
   "metadata": {
    "nteract": {
     "transient": {
      "deleting": false
     }
    }
   },
   "source": [
    "## Part 3 - Classes"
   ]
  },
  {
   "cell_type": "code",
   "execution_count": 4,
   "metadata": {
    "nteract": {
     "transient": {
      "deleting": false
     }
    }
   },
   "outputs": [],
   "source": [
    "ln = lambda a : len(a)"
   ]
  },
  {
   "cell_type": "code",
   "execution_count": 5,
   "metadata": {
    "nteract": {
     "transient": {
      "deleting": false
     }
    }
   },
   "outputs": [],
   "source": [
    "head = \"|{:16s}|{:8s}|{:12s}|\".format('col name',\n",
    "                                   'max len',\n",
    "                                   'unique vals')"
   ]
  },
  {
   "cell_type": "code",
   "execution_count": 6,
   "metadata": {
    "nteract": {
     "transient": {
      "deleting": false
     }
    },
    "tags": []
   },
   "outputs": [
    {
     "name": "stdout",
     "output_type": "stream",
     "text": [
      "|col name        |max len |unique vals |\n",
      "----------------------------------------\n",
      "|Series_reference|      12|         137|\n",
      "|Period          |       -|         245|\n",
      "|Data_value      |       -|       11679|\n",
      "|Suppressed      |       -|           2|\n",
      "|STATUS          |       1|           4|\n",
      "|UNITS           |       7|           3|\n",
      "|Magnitude       |       -|           2|\n",
      "|Subject         |      45|           1|\n",
      "|Group           |      69|           5|\n",
      "|Series_title_1  |      19|           3|\n",
      "|Series_title_2  |      59|          20|\n",
      "|Series_title_3  |       -|           6|\n",
      "|Series_title_4  |       -|           1|\n",
      "|Series_title_5  |       -|           1|\n"
     ]
    }
   ],
   "source": [
    "print(head)\n",
    "print('-'*len(head))\n",
    "\n",
    "for i in df.columns:\n",
    "    try:\n",
    "        print(\"|{:16s}|{:8d}|{:12d}|\".format(i,\n",
    "                                          max(df[i].apply(ln)),\n",
    "                                          len(pd.unique(df[i])) ) )\n",
    "    except TypeError:\n",
    "        print(\"|{:16s}\".format(i)\n",
    "              +\"|\"\n",
    "              +\" \"*7\n",
    "              +\"-\"\n",
    "              +\"|{:12d}|\".format(len(pd.unique(df[i]))) )"
   ]
  },
  {
   "cell_type": "code",
   "execution_count": 7,
   "metadata": {
    "nteract": {
     "transient": {
      "deleting": false
     }
    }
   },
   "outputs": [],
   "source": [
    "from sqlalchemy import (Column,\n",
    "                        Date,\n",
    "                        Integer,\n",
    "                        Float,\n",
    "                        String)\n",
    "from sqlalchemy import ForeignKey\n",
    "from sqlalchemy.ext.declarative import declarative_base\n",
    "\n",
    "Base = declarative_base()"
   ]
  },
  {
   "cell_type": "code",
   "execution_count": 8,
   "metadata": {
    "nteract": {
     "transient": {
      "deleting": false
     }
    }
   },
   "outputs": [],
   "source": [
    "class Transactions(Base):\n",
    "    __tablename__ = \"transactions\"\n",
    "    id                  = Column(Integer, primary_key=True)\n",
    "    id_Series_reference = Column(Integer, ForeignKey(\"series_references.id\"))\n",
    "    Period              = Column(Date)\n",
    "    Data_value          = Column(Float)\n",
    "    Suppressed          = Column(String(1))\n",
    "    STATUS              = Column(String(1))\n",
    "    id_UNITS            = Column(Integer, ForeignKey(\"units.id\"))\n",
    "    Magnitude           = Column(Integer)\n",
    "    id_Subject          = Column(Integer, ForeignKey(\"subjects.id\"))\n",
    "    id_Group            = Column(Integer, ForeignKey(\"groups.id\"))\n",
    "    id_Series_title_1   = Column(Integer, ForeignKey(\"series_titles_1.id\"))\n",
    "    id_Series_title_2   = Column(Integer, ForeignKey(\"series_titles_2.id\"))\n",
    "    id_Series_title_3   = Column(Integer, ForeignKey(\"series_titles_3.id\"))\n",
    "\n",
    "    def __repr__(self):\n",
    "        return \"<match_results(id={}\\\n",
    "                               id_Series_reference={}\\\n",
    "                               Period={}\\\n",
    "                               Data_value={}\\\n",
    "                               Suppressed={}\\\n",
    "                               STATUS={}\\\n",
    "                               id_UNITS={}\\\n",
    "                               Magnitude={}\\\n",
    "                               id_Subject={}\\\n",
    "                               id_Group={}\\\n",
    "                               id_Series_title_1={}\\\n",
    "                               id_Series_title_2={}\\\n",
    "                               id_Series_title_3={}\".format(self.id,\n",
    "                                                            self.id_Series_reference,\n",
    "                                                            self.Period,\n",
    "                                                            self.Data_value,\n",
    "                                                            self.Suppressed,\n",
    "                                                            self.STATUS,\n",
    "                                                            self.id_UNITS,\n",
    "                                                            self.Magnitude,\n",
    "                                                            self.id_Subject,\n",
    "                                                            self.id_Group,\n",
    "                                                            self.id_Series_title_1,\n",
    "                                                            self.id_Series_title_2,\n",
    "                                                            self.id_Series_title_3)"
   ]
  },
  {
   "cell_type": "code",
   "execution_count": 9,
   "metadata": {
    "nteract": {
     "transient": {
      "deleting": false
     }
    }
   },
   "outputs": [],
   "source": [
    "class Series_reference(Base):\n",
    "    __tablename__ = \"series_references\"\n",
    "\n",
    "    id = Column(Integer, primary_key=True)\n",
    "    series_reference = Column(String(12))\n",
    "\n",
    "    def __repr__(self):\n",
    "        return \"<match_results(id='{}', \\\n",
    "                               series_reference={})>\".format(self.id,\n",
    "                                                             self.Series_reference)"
   ]
  },
  {
   "cell_type": "code",
   "execution_count": 10,
   "metadata": {
    "nteract": {
     "transient": {
      "deleting": false
     }
    }
   },
   "outputs": [],
   "source": [
    "class Unit(Base):\n",
    "    __tablename__ = \"units\"\n",
    "\n",
    "    id = Column(Integer, primary_key=True)\n",
    "    unit = Column(String(10))\n",
    "\n",
    "    def __repr__(self):\n",
    "        return \"<match_results(id='{}', \\\n",
    "                               units={})>\".format(self.id,\n",
    "                                                  self.units)"
   ]
  },
  {
   "cell_type": "code",
   "execution_count": 11,
   "metadata": {
    "nteract": {
     "transient": {
      "deleting": false
     }
    }
   },
   "outputs": [],
   "source": [
    "class Subject(Base):\n",
    "    __tablename__ = \"subjects\"\n",
    "\n",
    "    id = Column(Integer, primary_key=True)\n",
    "    subject = Column(String(50))\n",
    "\n",
    "    def __repr__(self):\n",
    "        return \"<match_results(id='{}', \\\n",
    "                               subject={})>\".format(self.id,\n",
    "                                                    self.subject)"
   ]
  },
  {
   "cell_type": "code",
   "execution_count": 12,
   "metadata": {
    "nteract": {
     "transient": {
      "deleting": false
     }
    }
   },
   "outputs": [],
   "source": [
    "class Group(Base):\n",
    "    __tablename__ = \"groups\"\n",
    "\n",
    "    id = Column(Integer, primary_key=True)\n",
    "    group = Column(String(70))\n",
    "\n",
    "    def __repr__(self):\n",
    "        return \"<match_results(id='{}', \\\n",
    "                               group={})>\".format(self.id,\n",
    "                                                  self.group)"
   ]
  },
  {
   "cell_type": "code",
   "execution_count": 13,
   "metadata": {
    "nteract": {
     "transient": {
      "deleting": false
     }
    }
   },
   "outputs": [],
   "source": [
    "class Series_title_1(Base):\n",
    "    __tablename__ = \"series_titles_1\"\n",
    "\n",
    "    id = Column(Integer, primary_key=True)\n",
    "    series_title_1  = Column(String(75))\n",
    "\n",
    "    def __repr__(self):\n",
    "        return \"<match_results(id='{}', \\\n",
    "                               series_title_1={})>\".format(self.id,\n",
    "                                                           self.series_title_1)\n",
    "\n"
   ]
  },
  {
   "cell_type": "code",
   "execution_count": 14,
   "metadata": {
    "nteract": {
     "transient": {
      "deleting": false
     }
    }
   },
   "outputs": [],
   "source": [
    "class Series_title_2(Base):\n",
    "    __tablename__ = \"series_titles_2\"\n",
    "\n",
    "    id = Column(Integer, primary_key=True)\n",
    "    series_title_2  = Column(String(60))\n",
    "\n",
    "    def __repr__(self):\n",
    "        return \"<match_results(id='{}', \\\n",
    "                               series_title_2={})>\".format(self.id,\n",
    "                                                           self.series_title_2)\n"
   ]
  },
  {
   "cell_type": "code",
   "execution_count": 15,
   "metadata": {
    "nteract": {
     "transient": {
      "deleting": false
     }
    }
   },
   "outputs": [],
   "source": [
    "class Series_title_3(Base):\n",
    "    __tablename__ = \"series_titles_3\"\n",
    "\n",
    "    id = Column(Integer, primary_key=True)\n",
    "    series_title_3  = Column(String(75))\n",
    "\n",
    "\n",
    "    def __repr__(self):\n",
    "        return \"<match_results(id='{}', \\\n",
    "                               series_title_3={})>\".format(self.id,\n",
    "                                                           self.series_title_3)\n"
   ]
  },
  {
   "cell_type": "markdown",
   "metadata": {
    "nteract": {
     "transient": {
      "deleting": false
     }
    }
   },
   "source": [
    "## Part 4 - Insert dataset inside classes"
   ]
  },
  {
   "cell_type": "code",
   "execution_count": 16,
   "metadata": {},
   "outputs": [],
   "source": [
    "df.loc[(df['Series_title_3'].isna()), 'Series_title_3'] = '-'"
   ]
  },
  {
   "cell_type": "code",
   "execution_count": 17,
   "metadata": {
    "jupyter": {
     "outputs_hidden": true,
     "source_hidden": false
    },
    "nteract": {
     "transient": {
      "deleting": false
     }
    }
   },
   "outputs": [],
   "source": [
    "series_reference_list = pd.DataFrame(df['Series_reference'].unique(), columns=['series_reference'])\n",
    "series_reference_list.index.name = 'id'\n",
    "\n",
    "unit_list = pd.DataFrame(df['UNITS'].unique(), columns=['unit'])\n",
    "unit_list.index.name = 'id'\n",
    "\n",
    "subject_list = pd.DataFrame(df['Subject'].unique(), columns=['subject'])\n",
    "subject_list.index.name = 'id'\n",
    "\n",
    "group_list = pd.DataFrame(df['Group'].unique(), columns=['group'])\n",
    "group_list.index.name = 'id'\n",
    "\n",
    "series_title_1_list = pd.DataFrame(df['Series_title_1'].unique(), columns=['series_title_1'])\n",
    "series_title_1_list.index.name = 'id'\n",
    "\n",
    "series_title_2_list = pd.DataFrame(df['Series_title_2'].unique(), columns=['series_title_2'])\n",
    "series_title_2_list.index.name = 'id'\n",
    "\n",
    "series_title_3_list = pd.DataFrame(df['Series_title_3'].unique(), columns=['series_title_3'])\n",
    "series_title_3_list.index.name = 'id'"
   ]
  },
  {
   "cell_type": "code",
   "execution_count": 18,
   "metadata": {},
   "outputs": [
    {
     "data": {
      "text/html": [
       "<div>\n",
       "<style scoped>\n",
       "    .dataframe tbody tr th:only-of-type {\n",
       "        vertical-align: middle;\n",
       "    }\n",
       "\n",
       "    .dataframe tbody tr th {\n",
       "        vertical-align: top;\n",
       "    }\n",
       "\n",
       "    .dataframe thead th {\n",
       "        text-align: right;\n",
       "    }\n",
       "</style>\n",
       "<table border=\"1\" class=\"dataframe\">\n",
       "  <thead>\n",
       "    <tr style=\"text-align: right;\">\n",
       "      <th></th>\n",
       "      <th>id_Series_reference</th>\n",
       "      <th>Period</th>\n",
       "      <th>Data_value</th>\n",
       "      <th>Suppressed</th>\n",
       "      <th>STATUS</th>\n",
       "      <th>id_UNITS</th>\n",
       "      <th>Magnitude</th>\n",
       "      <th>id_Subject</th>\n",
       "      <th>id_Group</th>\n",
       "      <th>id_Series_title_1</th>\n",
       "      <th>id_Series_title_2</th>\n",
       "      <th>id_Series_title_3</th>\n",
       "    </tr>\n",
       "    <tr>\n",
       "      <th>id</th>\n",
       "      <th></th>\n",
       "      <th></th>\n",
       "      <th></th>\n",
       "      <th></th>\n",
       "      <th></th>\n",
       "      <th></th>\n",
       "      <th></th>\n",
       "      <th></th>\n",
       "      <th></th>\n",
       "      <th></th>\n",
       "      <th></th>\n",
       "      <th></th>\n",
       "    </tr>\n",
       "  </thead>\n",
       "  <tbody>\n",
       "    <tr>\n",
       "      <th>0</th>\n",
       "      <td>0</td>\n",
       "      <td>2001.03</td>\n",
       "      <td>2462.5</td>\n",
       "      <td>NaN</td>\n",
       "      <td>F</td>\n",
       "      <td>0</td>\n",
       "      <td>6</td>\n",
       "      <td>0</td>\n",
       "      <td>0</td>\n",
       "      <td>0</td>\n",
       "      <td>0</td>\n",
       "      <td>0</td>\n",
       "    </tr>\n",
       "    <tr>\n",
       "      <th>1</th>\n",
       "      <td>0</td>\n",
       "      <td>2002.03</td>\n",
       "      <td>17177.2</td>\n",
       "      <td>NaN</td>\n",
       "      <td>F</td>\n",
       "      <td>0</td>\n",
       "      <td>6</td>\n",
       "      <td>0</td>\n",
       "      <td>0</td>\n",
       "      <td>0</td>\n",
       "      <td>0</td>\n",
       "      <td>0</td>\n",
       "    </tr>\n",
       "    <tr>\n",
       "      <th>2</th>\n",
       "      <td>0</td>\n",
       "      <td>2003.03</td>\n",
       "      <td>22530.5</td>\n",
       "      <td>NaN</td>\n",
       "      <td>F</td>\n",
       "      <td>0</td>\n",
       "      <td>6</td>\n",
       "      <td>0</td>\n",
       "      <td>0</td>\n",
       "      <td>0</td>\n",
       "      <td>0</td>\n",
       "      <td>0</td>\n",
       "    </tr>\n",
       "    <tr>\n",
       "      <th>3</th>\n",
       "      <td>0</td>\n",
       "      <td>2004.03</td>\n",
       "      <td>28005.1</td>\n",
       "      <td>NaN</td>\n",
       "      <td>F</td>\n",
       "      <td>0</td>\n",
       "      <td>6</td>\n",
       "      <td>0</td>\n",
       "      <td>0</td>\n",
       "      <td>0</td>\n",
       "      <td>0</td>\n",
       "      <td>0</td>\n",
       "    </tr>\n",
       "    <tr>\n",
       "      <th>4</th>\n",
       "      <td>0</td>\n",
       "      <td>2005.03</td>\n",
       "      <td>30629.6</td>\n",
       "      <td>NaN</td>\n",
       "      <td>F</td>\n",
       "      <td>0</td>\n",
       "      <td>6</td>\n",
       "      <td>0</td>\n",
       "      <td>0</td>\n",
       "      <td>0</td>\n",
       "      <td>0</td>\n",
       "      <td>0</td>\n",
       "    </tr>\n",
       "    <tr>\n",
       "      <th>...</th>\n",
       "      <td>...</td>\n",
       "      <td>...</td>\n",
       "      <td>...</td>\n",
       "      <td>...</td>\n",
       "      <td>...</td>\n",
       "      <td>...</td>\n",
       "      <td>...</td>\n",
       "      <td>...</td>\n",
       "      <td>...</td>\n",
       "      <td>...</td>\n",
       "      <td>...</td>\n",
       "      <td>...</td>\n",
       "    </tr>\n",
       "    <tr>\n",
       "      <th>16914</th>\n",
       "      <td>136</td>\n",
       "      <td>2019.03</td>\n",
       "      <td>43.5</td>\n",
       "      <td>NaN</td>\n",
       "      <td>F</td>\n",
       "      <td>2</td>\n",
       "      <td>0</td>\n",
       "      <td>0</td>\n",
       "      <td>3</td>\n",
       "      <td>0</td>\n",
       "      <td>19</td>\n",
       "      <td>3</td>\n",
       "    </tr>\n",
       "    <tr>\n",
       "      <th>16915</th>\n",
       "      <td>136</td>\n",
       "      <td>2019.06</td>\n",
       "      <td>44.9</td>\n",
       "      <td>NaN</td>\n",
       "      <td>F</td>\n",
       "      <td>2</td>\n",
       "      <td>0</td>\n",
       "      <td>0</td>\n",
       "      <td>3</td>\n",
       "      <td>0</td>\n",
       "      <td>19</td>\n",
       "      <td>3</td>\n",
       "    </tr>\n",
       "    <tr>\n",
       "      <th>16916</th>\n",
       "      <td>136</td>\n",
       "      <td>2019.09</td>\n",
       "      <td>44.9</td>\n",
       "      <td>NaN</td>\n",
       "      <td>F</td>\n",
       "      <td>2</td>\n",
       "      <td>0</td>\n",
       "      <td>0</td>\n",
       "      <td>3</td>\n",
       "      <td>0</td>\n",
       "      <td>19</td>\n",
       "      <td>3</td>\n",
       "    </tr>\n",
       "    <tr>\n",
       "      <th>16917</th>\n",
       "      <td>136</td>\n",
       "      <td>2019.12</td>\n",
       "      <td>43.6</td>\n",
       "      <td>NaN</td>\n",
       "      <td>F</td>\n",
       "      <td>2</td>\n",
       "      <td>0</td>\n",
       "      <td>0</td>\n",
       "      <td>3</td>\n",
       "      <td>0</td>\n",
       "      <td>19</td>\n",
       "      <td>3</td>\n",
       "    </tr>\n",
       "    <tr>\n",
       "      <th>16918</th>\n",
       "      <td>136</td>\n",
       "      <td>2020.03</td>\n",
       "      <td>42.6</td>\n",
       "      <td>NaN</td>\n",
       "      <td>F</td>\n",
       "      <td>2</td>\n",
       "      <td>0</td>\n",
       "      <td>0</td>\n",
       "      <td>3</td>\n",
       "      <td>0</td>\n",
       "      <td>19</td>\n",
       "      <td>3</td>\n",
       "    </tr>\n",
       "  </tbody>\n",
       "</table>\n",
       "<p>16919 rows × 12 columns</p>\n",
       "</div>"
      ],
      "text/plain": [
       "       id_Series_reference   Period  Data_value Suppressed STATUS  id_UNITS  \\\n",
       "id                                                                            \n",
       "0                        0  2001.03      2462.5        NaN      F         0   \n",
       "1                        0  2002.03     17177.2        NaN      F         0   \n",
       "2                        0  2003.03     22530.5        NaN      F         0   \n",
       "3                        0  2004.03     28005.1        NaN      F         0   \n",
       "4                        0  2005.03     30629.6        NaN      F         0   \n",
       "...                    ...      ...         ...        ...    ...       ...   \n",
       "16914                  136  2019.03        43.5        NaN      F         2   \n",
       "16915                  136  2019.06        44.9        NaN      F         2   \n",
       "16916                  136  2019.09        44.9        NaN      F         2   \n",
       "16917                  136  2019.12        43.6        NaN      F         2   \n",
       "16918                  136  2020.03        42.6        NaN      F         2   \n",
       "\n",
       "       Magnitude  id_Subject  id_Group  id_Series_title_1  id_Series_title_2  \\\n",
       "id                                                                             \n",
       "0              6           0         0                  0                  0   \n",
       "1              6           0         0                  0                  0   \n",
       "2              6           0         0                  0                  0   \n",
       "3              6           0         0                  0                  0   \n",
       "4              6           0         0                  0                  0   \n",
       "...          ...         ...       ...                ...                ...   \n",
       "16914          0           0         3                  0                 19   \n",
       "16915          0           0         3                  0                 19   \n",
       "16916          0           0         3                  0                 19   \n",
       "16917          0           0         3                  0                 19   \n",
       "16918          0           0         3                  0                 19   \n",
       "\n",
       "       id_Series_title_3  \n",
       "id                        \n",
       "0                      0  \n",
       "1                      0  \n",
       "2                      0  \n",
       "3                      0  \n",
       "4                      0  \n",
       "...                  ...  \n",
       "16914                  3  \n",
       "16915                  3  \n",
       "16916                  3  \n",
       "16917                  3  \n",
       "16918                  3  \n",
       "\n",
       "[16919 rows x 12 columns]"
      ]
     },
     "execution_count": 18,
     "metadata": {},
     "output_type": "execute_result"
    }
   ],
   "source": [
    "transactions_list = df[['Series_reference', 'Period', 'Data_value', 'Suppressed', 'STATUS', 'UNITS', 'Magnitude', 'Subject', 'Group', 'Series_title_1', 'Series_title_2', 'Series_title_3']].drop_duplicates().reset_index().drop(columns = ['index'])\n",
    "transactions_list.index.name = 'id'\n",
    "\n",
    "transactions_list = transactions_list.rename(columns = {'Series_reference':'id_Series_reference'})\n",
    "transactions_list = transactions_list.rename(columns = {'UNITS':'id_UNITS'})\n",
    "transactions_list = transactions_list.rename(columns = {'Subject':'id_Subject'})\n",
    "transactions_list = transactions_list.rename(columns = {'Group':'id_Group'})\n",
    "transactions_list = transactions_list.rename(columns = {'Series_title_1':'id_Series_title_1'})\n",
    "transactions_list = transactions_list.rename(columns = {'Series_title_2':'id_Series_title_2'})\n",
    "transactions_list = transactions_list.rename(columns = {'Series_title_3':'id_Series_title_3'})\n",
    "\n",
    "transactions_list['id_Series_reference'] = transactions_list['id_Series_reference'].map(lambda x:  series_reference_list[series_reference_list['series_reference'] == x].index.values.astype(int)[0])\n",
    "transactions_list['id_UNITS'] = transactions_list['id_UNITS'].map(lambda x:  unit_list[unit_list['unit'] == x].index.values.astype(int)[0])\n",
    "transactions_list['id_Subject'] = transactions_list['id_Subject'].map(lambda x:  subject_list[subject_list['subject'] == x].index.values.astype(int)[0])\n",
    "transactions_list['id_Group'] = transactions_list['id_Group'].map(lambda x:  group_list[group_list['group'] == x].index.values.astype(int)[0])\n",
    "transactions_list['id_Series_title_1'] = transactions_list['id_Series_title_1'].map(lambda x:  series_title_1_list[series_title_1_list['series_title_1'] == x].index.values.astype(int)[0])\n",
    "transactions_list['id_Series_title_2'] = transactions_list['id_Series_title_2'].map(lambda x:  series_title_2_list[series_title_2_list['series_title_2'] == x].index.values.astype(int)[0])\n",
    "transactions_list['id_Series_title_3'] = transactions_list['id_Series_title_3'].map(lambda x:  series_title_3_list[series_title_3_list['series_title_3'] == x].index.values.astype(int)[0])\n",
    "\n",
    "transactions_list"
   ]
  },
  {
   "cell_type": "code",
   "execution_count": 19,
   "metadata": {
    "tags": []
   },
   "outputs": [
    {
     "name": "stderr",
     "output_type": "stream",
     "text": [
      "C:\\Users\\rafal\\Anaconda3\\lib\\site-packages\\ipykernel_launcher.py:7: SettingWithCopyWarning: \n",
      "A value is trying to be set on a copy of a slice from a DataFrame\n",
      "\n",
      "See the caveats in the documentation: http://pandas.pydata.org/pandas-docs/stable/user_guide/indexing.html#returning-a-view-versus-a-copy\n",
      "  import sys\n"
     ]
    },
    {
     "name": "stdout",
     "output_type": "stream",
     "text": [
      "id\n",
      "0        2001-03-01\n",
      "1        2002-03-01\n",
      "2        2003-03-01\n",
      "3        2004-03-01\n",
      "4        2005-03-01\n",
      "            ...    \n",
      "16914    2019-03-01\n",
      "16915    2019-06-01\n",
      "16916    2019-09-01\n",
      "16917    2019-12-01\n",
      "16918    2020-03-01\n",
      "Name: Period, Length: 16919, dtype: object\n"
     ]
    }
   ],
   "source": [
    "import datetime\n",
    "\n",
    "for i in range(0, len(transactions_list['Period'])):\n",
    "    x = transactions_list['Period'][i]\n",
    "    year = int(x)\n",
    "    month = int((x - year)*100)+1\n",
    "    transactions_list['Period'][i] = datetime.date(year, month, 1)\n",
    "    \n",
    "print(transactions_list['Period'])"
   ]
  },
  {
   "cell_type": "code",
   "execution_count": 20,
   "metadata": {},
   "outputs": [],
   "source": [
    "Base.metadata.create_all(engine)\n",
    "\n",
    "series_reference_list.to_sql('series_references', engine, if_exists='append')\n",
    "unit_list.to_sql('units', engine, if_exists='append')\n",
    "subject_list.to_sql('subjects', engine, if_exists='append')\n",
    "group_list.to_sql('groups', engine, if_exists='append')\n",
    "series_title_1_list.to_sql('series_titles_1', engine, if_exists='append')\n",
    "series_title_2_list.to_sql('series_titles_2', engine, if_exists='append')\n",
    "series_title_3_list.to_sql('series_titles_3', engine, if_exists='append')\n",
    "transactions_list.to_sql('transactions', engine, if_exists='append')"
   ]
  },
  {
   "cell_type": "markdown",
   "metadata": {
    "nteract": {
     "transient": {
      "deleting": false
     }
    }
   },
   "source": [
    "## Part 5 - Check if works"
   ]
  },
  {
   "cell_type": "code",
   "execution_count": 28,
   "metadata": {},
   "outputs": [
    {
     "name": "stdout",
     "output_type": "stream",
     "text": [
      "(56, 81334.1, 'Dollars', 'ECTA.S19A9')\n",
      "(57, 87684.4, 'Dollars', 'ECTA.S19A9')\n",
      "(58, 91445.8, 'Dollars', 'ECTA.S19A9')\n",
      "(59, 93968.7, 'Dollars', 'ECTA.S19A9')\n"
     ]
    }
   ],
   "source": [
    "stmt = \"\"\"select t.id, t.\"Data_value\", u.\"unit\", s.\"series_reference\" \n",
    "from \n",
    "transactions t inner join units u \n",
    "on \n",
    "t.\"id_UNITS\" = u.\"id\" inner join series_references s on t.\"id_Series_reference\" = s.\"id\"\n",
    "where\n",
    "t.\"Data_value\" > 80000 and u.\"unit\" = 'Dollars'\"\"\"\n",
    "\n",
    "results = engine.execute(stmt).fetchall()\n",
    "for row in results:\n",
    "    print(row)"
   ]
  },
  {
   "cell_type": "code",
   "execution_count": 29,
   "metadata": {},
   "outputs": [
    {
     "name": "stdout",
     "output_type": "stream",
     "text": [
      "(137,)\n"
     ]
    }
   ],
   "source": [
    "stmt = \"\"\"select count(id) from series_references \"\"\"\n",
    "\n",
    "results = engine.execute(stmt).fetchall()\n",
    "for row in results:\n",
    "    print(row)"
   ]
  },
  {
   "cell_type": "code",
   "execution_count": 30,
   "metadata": {},
   "outputs": [
    {
     "name": "stdout",
     "output_type": "stream",
     "text": [
      "(2366, datetime.date(2005, 8, 1), 2750.2, 'R')\n",
      "(2577, datetime.date(2005, 8, 1), 0.3, 'R')\n",
      "(2789, datetime.date(2005, 8, 1), 2355.3, 'R')\n",
      "(3000, datetime.date(2005, 8, 1), 0.0, 'R')\n",
      "(3212, datetime.date(2005, 8, 1), 3658.0, 'R')\n",
      "(3423, datetime.date(2005, 8, 1), 0.5, 'R')\n",
      "(3637, datetime.date(2005, 8, 1), 1666.5, 'R')\n",
      "(3851, datetime.date(2005, 8, 1), 1990.5, 'R')\n",
      "(4063, datetime.date(2005, 8, 1), 2761.7, 'R')\n",
      "(4275, datetime.date(2005, 8, 1), 2364.5, 'R')\n",
      "(4487, datetime.date(2005, 8, 1), 3663.7, 'R')\n",
      "(4701, datetime.date(2005, 8, 1), 1670.8, 'R')\n",
      "(4915, datetime.date(2005, 8, 1), 1993.6, 'R')\n",
      "(7087, datetime.date(2005, 8, 1), 940.1, 'R')\n",
      "(7299, datetime.date(2005, 8, 1), 830.3, 'R')\n",
      "(7511, datetime.date(2005, 8, 1), 375.1, 'R')\n",
      "(7723, datetime.date(2005, 8, 1), 104.2, 'R')\n",
      "(7935, datetime.date(2005, 8, 1), 212.8, 'R')\n",
      "(8147, datetime.date(2005, 8, 1), 75.1, 'R')\n",
      "(8359, datetime.date(2005, 8, 1), 321.9, 'R')\n",
      "(8571, datetime.date(2005, 8, 1), 803.6, 'R')\n",
      "(8783, datetime.date(2005, 8, 1), 942.0, 'R')\n",
      "(8995, datetime.date(2005, 8, 1), 831.6, 'R')\n",
      "(9207, datetime.date(2005, 8, 1), 376.5, 'R')\n",
      "(9419, datetime.date(2005, 8, 1), 104.5, 'R')\n",
      "(9631, datetime.date(2005, 8, 1), 213.4, 'R')\n",
      "(9843, datetime.date(2005, 8, 1), 73.9, 'R')\n",
      "(10055, datetime.date(2005, 8, 1), 323.6, 'R')\n",
      "(10267, datetime.date(2005, 8, 1), 798.1, 'R')\n"
     ]
    }
   ],
   "source": [
    "stmt = \"\"\"select \"id\", \"Period\", \"Data_value\", \"STATUS\" from transactions\n",
    "where\n",
    "\"STATUS\" = 'R'\n",
    "and \n",
    "\"Period\" = '2005-08-01'\"\"\"\n",
    "\n",
    "results = engine.execute(stmt).fetchall()\n",
    "for row in results:\n",
    "    print(row)"
   ]
  }
 ],
 "metadata": {
  "kernelspec": {
   "display_name": "Python 3",
   "language": "python",
   "name": "python3"
  },
  "language_info": {
   "codemirror_mode": {
    "name": "ipython",
    "version": 3
   },
   "file_extension": ".py",
   "mimetype": "text/x-python",
   "name": "python",
   "nbconvert_exporter": "python",
   "pygments_lexer": "ipython3",
   "version": "3.6.5"
  }
 },
 "nbformat": 4,
 "nbformat_minor": 4
}
